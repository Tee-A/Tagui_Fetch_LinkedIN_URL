{
  "nbformat": 4,
  "nbformat_minor": 0,
  "metadata": {
    "colab": {
      "name": "JIJI_WareHouses_Ingestion.ipynb",
      "provenance": [],
      "mount_file_id": "1xSCRdlBiuuEL7pPesJnuMUgubkGudkLA",
      "authorship_tag": "ABX9TyPd/rYZnB39Cpn/Y5ccr4Bq",
      "include_colab_link": true
    },
    "kernelspec": {
      "name": "python3",
      "display_name": "Python 3"
    },
    "language_info": {
      "name": "python"
    }
  },
  "cells": [
    {
      "cell_type": "markdown",
      "metadata": {
        "id": "view-in-github",
        "colab_type": "text"
      },
      "source": [
        "<a href=\"https://colab.research.google.com/github/Tee-A/Tagui_Fetch_LinkedIN_URL/blob/main/JIJI_WareHouses_Ingestion.ipynb\" target=\"_parent\"><img src=\"https://colab.research.google.com/assets/colab-badge.svg\" alt=\"Open In Colab\"/></a>"
      ]
    },
    {
      "cell_type": "markdown",
      "metadata": {
        "id": "nydsRFPyck_k"
      },
      "source": [
        "# Setting Up Environment"
      ]
    },
    {
      "cell_type": "code",
      "metadata": {
        "colab": {
          "base_uri": "https://localhost:8080/"
        },
        "id": "ulAGvkQRcWXP",
        "outputId": "13ff40ca-3a54-4269-e53c-219fec286982"
      },
      "source": [
        "# setup RPA environment by installing PHP, Chromium web browser and RPA for Python\n",
        "!apt-get update; apt install php; apt install chromium-browser; pip install rpa\n",
        "\n",
        "# run r.setup() to download TagUI, modify to run Chromium browser and as root user\n",
        "import rpa as r; r.setup(); r.dump(r.load('/root/.tagui/src/tagui').replace('\"google-chrome\"', '\"chromium-browser\"').replace('$headless_switch', '--no-sandbox'), '/root/.tagui/src/tagui')\n",
        "\n",
        "# virtual display to run web browser normally (some websites reject headless mode)\n",
        "!apt install xvfb; pip install pyvirtualdisplay\n",
        "import pyvirtualdisplay; display = pyvirtualdisplay.Display(); display.start()"
      ],
      "execution_count": null,
      "outputs": [
        {
          "output_type": "stream",
          "name": "stdout",
          "text": [
            "Get:1 https://cloud.r-project.org/bin/linux/ubuntu bionic-cran40/ InRelease [3,626 B]\n",
            "Ign:2 https://developer.download.nvidia.com/compute/cuda/repos/ubuntu1804/x86_64  InRelease\n",
            "Ign:3 https://developer.download.nvidia.com/compute/machine-learning/repos/ubuntu1804/x86_64  InRelease\n",
            "Get:4 https://developer.download.nvidia.com/compute/cuda/repos/ubuntu1804/x86_64  Release [696 B]\n",
            "Hit:5 https://developer.download.nvidia.com/compute/machine-learning/repos/ubuntu1804/x86_64  Release\n",
            "Get:6 http://security.ubuntu.com/ubuntu bionic-security InRelease [88.7 kB]\n",
            "Get:7 https://developer.download.nvidia.com/compute/cuda/repos/ubuntu1804/x86_64  Release.gpg [836 B]\n",
            "Get:8 http://ppa.launchpad.net/c2d4u.team/c2d4u4.0+/ubuntu bionic InRelease [15.9 kB]\n",
            "Hit:10 http://archive.ubuntu.com/ubuntu bionic InRelease\n",
            "Get:11 https://developer.download.nvidia.com/compute/cuda/repos/ubuntu1804/x86_64  Packages [829 kB]\n",
            "Get:12 http://archive.ubuntu.com/ubuntu bionic-updates InRelease [88.7 kB]\n",
            "Hit:13 http://ppa.launchpad.net/cran/libgit2/ubuntu bionic InRelease\n",
            "Hit:14 http://ppa.launchpad.net/deadsnakes/ppa/ubuntu bionic InRelease\n",
            "Get:15 http://archive.ubuntu.com/ubuntu bionic-backports InRelease [74.6 kB]\n",
            "Get:16 http://security.ubuntu.com/ubuntu bionic-security/main amd64 Packages [2,461 kB]\n",
            "Get:17 http://ppa.launchpad.net/graphics-drivers/ppa/ubuntu bionic InRelease [21.3 kB]\n",
            "Get:18 http://archive.ubuntu.com/ubuntu bionic-updates/restricted amd64 Packages [725 kB]\n",
            "Get:19 http://ppa.launchpad.net/c2d4u.team/c2d4u4.0+/ubuntu bionic/main Sources [1,813 kB]\n",
            "Get:20 http://archive.ubuntu.com/ubuntu bionic-updates/main amd64 Packages [2,898 kB]\n",
            "Get:21 http://security.ubuntu.com/ubuntu bionic-security/restricted amd64 Packages [691 kB]\n",
            "Get:22 http://security.ubuntu.com/ubuntu bionic-security/universe amd64 Packages [1,444 kB]\n",
            "Get:23 http://archive.ubuntu.com/ubuntu bionic-updates/universe amd64 Packages [2,225 kB]\n",
            "Get:24 http://ppa.launchpad.net/c2d4u.team/c2d4u4.0+/ubuntu bionic/main amd64 Packages [930 kB]\n",
            "Get:25 http://ppa.launchpad.net/graphics-drivers/ppa/ubuntu bionic/main amd64 Packages [44.7 kB]\n",
            "Fetched 14.4 MB in 7s (2,003 kB/s)\n",
            "Reading package lists... Done\n",
            "Reading package lists... Done\n",
            "Building dependency tree       \n",
            "Reading state information... Done\n",
            "The following additional packages will be installed:\n",
            "  apache2 apache2-bin apache2-data apache2-utils libapache2-mod-php7.2 libapr1\n",
            "  libaprutil1 libaprutil1-dbd-sqlite3 libaprutil1-ldap liblua5.2-0\n",
            "  libmagic-mgc libmagic1 php-common php7.2 php7.2-cli php7.2-common\n",
            "  php7.2-json php7.2-opcache php7.2-readline ssl-cert\n",
            "Suggested packages:\n",
            "  www-browser apache2-doc apache2-suexec-pristine | apache2-suexec-custom ufw\n",
            "  php-pear file openssl-blacklist\n",
            "The following NEW packages will be installed:\n",
            "  apache2 apache2-bin apache2-data apache2-utils libapache2-mod-php7.2 libapr1\n",
            "  libaprutil1 libaprutil1-dbd-sqlite3 libaprutil1-ldap liblua5.2-0\n",
            "  libmagic-mgc libmagic1 php php-common php7.2 php7.2-cli php7.2-common\n",
            "  php7.2-json php7.2-opcache php7.2-readline ssl-cert\n",
            "0 upgraded, 21 newly installed, 0 to remove and 43 not upgraded.\n",
            "Need to get 5,854 kB of archives.\n",
            "After this operation, 29.4 MB of additional disk space will be used.\n",
            "Get:1 http://archive.ubuntu.com/ubuntu bionic/main amd64 libapr1 amd64 1.6.3-2 [90.9 kB]\n",
            "Get:2 http://archive.ubuntu.com/ubuntu bionic/main amd64 libaprutil1 amd64 1.6.1-2 [84.4 kB]\n",
            "Get:3 http://archive.ubuntu.com/ubuntu bionic/main amd64 libaprutil1-dbd-sqlite3 amd64 1.6.1-2 [10.6 kB]\n",
            "Get:4 http://archive.ubuntu.com/ubuntu bionic/main amd64 libaprutil1-ldap amd64 1.6.1-2 [8,764 B]\n",
            "Get:5 http://archive.ubuntu.com/ubuntu bionic/main amd64 liblua5.2-0 amd64 5.2.4-1.1build1 [108 kB]\n",
            "Get:6 http://archive.ubuntu.com/ubuntu bionic-updates/main amd64 apache2-bin amd64 2.4.29-1ubuntu4.20 [1,071 kB]\n",
            "Get:7 http://archive.ubuntu.com/ubuntu bionic-updates/main amd64 apache2-utils amd64 2.4.29-1ubuntu4.20 [84.2 kB]\n",
            "Get:8 http://archive.ubuntu.com/ubuntu bionic-updates/main amd64 apache2-data all 2.4.29-1ubuntu4.20 [160 kB]\n",
            "Get:9 http://archive.ubuntu.com/ubuntu bionic-updates/main amd64 apache2 amd64 2.4.29-1ubuntu4.20 [95.1 kB]\n",
            "Get:10 http://archive.ubuntu.com/ubuntu bionic-updates/main amd64 libmagic-mgc amd64 1:5.32-2ubuntu0.4 [184 kB]\n",
            "Get:11 http://archive.ubuntu.com/ubuntu bionic-updates/main amd64 libmagic1 amd64 1:5.32-2ubuntu0.4 [68.6 kB]\n",
            "Get:12 http://archive.ubuntu.com/ubuntu bionic/main amd64 php-common all 1:60ubuntu1 [12.1 kB]\n",
            "Get:13 http://archive.ubuntu.com/ubuntu bionic-updates/main amd64 php7.2-common amd64 7.2.24-0ubuntu0.18.04.10 [889 kB]\n",
            "Get:14 http://archive.ubuntu.com/ubuntu bionic-updates/main amd64 php7.2-json amd64 7.2.24-0ubuntu0.18.04.10 [18.9 kB]\n",
            "Get:15 http://archive.ubuntu.com/ubuntu bionic-updates/main amd64 php7.2-opcache amd64 7.2.24-0ubuntu0.18.04.10 [165 kB]\n",
            "Get:16 http://archive.ubuntu.com/ubuntu bionic-updates/main amd64 php7.2-readline amd64 7.2.24-0ubuntu0.18.04.10 [12.2 kB]\n",
            "Get:17 http://archive.ubuntu.com/ubuntu bionic-updates/main amd64 php7.2-cli amd64 7.2.24-0ubuntu0.18.04.10 [1,408 kB]\n",
            "Get:18 http://archive.ubuntu.com/ubuntu bionic-updates/main amd64 libapache2-mod-php7.2 amd64 7.2.24-0ubuntu0.18.04.10 [1,352 kB]\n",
            "Get:19 http://archive.ubuntu.com/ubuntu bionic-updates/main amd64 php7.2 all 7.2.24-0ubuntu0.18.04.10 [9,256 B]\n",
            "Get:20 http://archive.ubuntu.com/ubuntu bionic/main amd64 php all 1:7.2+60ubuntu1 [3,084 B]\n",
            "Get:21 http://archive.ubuntu.com/ubuntu bionic/main amd64 ssl-cert all 1.0.39 [17.0 kB]\n",
            "Fetched 5,854 kB in 3s (2,052 kB/s)\n",
            "Preconfiguring packages ...\n",
            "Selecting previously unselected package libapr1:amd64.\n",
            "(Reading database ... 155222 files and directories currently installed.)\n",
            "Preparing to unpack .../00-libapr1_1.6.3-2_amd64.deb ...\n",
            "Unpacking libapr1:amd64 (1.6.3-2) ...\n",
            "Selecting previously unselected package libaprutil1:amd64.\n",
            "Preparing to unpack .../01-libaprutil1_1.6.1-2_amd64.deb ...\n",
            "Unpacking libaprutil1:amd64 (1.6.1-2) ...\n",
            "Selecting previously unselected package libaprutil1-dbd-sqlite3:amd64.\n",
            "Preparing to unpack .../02-libaprutil1-dbd-sqlite3_1.6.1-2_amd64.deb ...\n",
            "Unpacking libaprutil1-dbd-sqlite3:amd64 (1.6.1-2) ...\n",
            "Selecting previously unselected package libaprutil1-ldap:amd64.\n",
            "Preparing to unpack .../03-libaprutil1-ldap_1.6.1-2_amd64.deb ...\n",
            "Unpacking libaprutil1-ldap:amd64 (1.6.1-2) ...\n",
            "Selecting previously unselected package liblua5.2-0:amd64.\n",
            "Preparing to unpack .../04-liblua5.2-0_5.2.4-1.1build1_amd64.deb ...\n",
            "Unpacking liblua5.2-0:amd64 (5.2.4-1.1build1) ...\n",
            "Selecting previously unselected package apache2-bin.\n",
            "Preparing to unpack .../05-apache2-bin_2.4.29-1ubuntu4.20_amd64.deb ...\n",
            "Unpacking apache2-bin (2.4.29-1ubuntu4.20) ...\n",
            "Selecting previously unselected package apache2-utils.\n",
            "Preparing to unpack .../06-apache2-utils_2.4.29-1ubuntu4.20_amd64.deb ...\n",
            "Unpacking apache2-utils (2.4.29-1ubuntu4.20) ...\n",
            "Selecting previously unselected package apache2-data.\n",
            "Preparing to unpack .../07-apache2-data_2.4.29-1ubuntu4.20_all.deb ...\n",
            "Unpacking apache2-data (2.4.29-1ubuntu4.20) ...\n",
            "Selecting previously unselected package apache2.\n",
            "Preparing to unpack .../08-apache2_2.4.29-1ubuntu4.20_amd64.deb ...\n",
            "Unpacking apache2 (2.4.29-1ubuntu4.20) ...\n",
            "Selecting previously unselected package libmagic-mgc.\n",
            "Preparing to unpack .../09-libmagic-mgc_1%3a5.32-2ubuntu0.4_amd64.deb ...\n",
            "Unpacking libmagic-mgc (1:5.32-2ubuntu0.4) ...\n",
            "Selecting previously unselected package libmagic1:amd64.\n",
            "Preparing to unpack .../10-libmagic1_1%3a5.32-2ubuntu0.4_amd64.deb ...\n",
            "Unpacking libmagic1:amd64 (1:5.32-2ubuntu0.4) ...\n",
            "Selecting previously unselected package php-common.\n",
            "Preparing to unpack .../11-php-common_1%3a60ubuntu1_all.deb ...\n",
            "Unpacking php-common (1:60ubuntu1) ...\n",
            "Selecting previously unselected package php7.2-common.\n",
            "Preparing to unpack .../12-php7.2-common_7.2.24-0ubuntu0.18.04.10_amd64.deb ...\n",
            "Unpacking php7.2-common (7.2.24-0ubuntu0.18.04.10) ...\n",
            "Selecting previously unselected package php7.2-json.\n",
            "Preparing to unpack .../13-php7.2-json_7.2.24-0ubuntu0.18.04.10_amd64.deb ...\n",
            "Unpacking php7.2-json (7.2.24-0ubuntu0.18.04.10) ...\n",
            "Selecting previously unselected package php7.2-opcache.\n",
            "Preparing to unpack .../14-php7.2-opcache_7.2.24-0ubuntu0.18.04.10_amd64.deb ...\n",
            "Unpacking php7.2-opcache (7.2.24-0ubuntu0.18.04.10) ...\n",
            "Selecting previously unselected package php7.2-readline.\n",
            "Preparing to unpack .../15-php7.2-readline_7.2.24-0ubuntu0.18.04.10_amd64.deb ...\n",
            "Unpacking php7.2-readline (7.2.24-0ubuntu0.18.04.10) ...\n",
            "Selecting previously unselected package php7.2-cli.\n",
            "Preparing to unpack .../16-php7.2-cli_7.2.24-0ubuntu0.18.04.10_amd64.deb ...\n",
            "Unpacking php7.2-cli (7.2.24-0ubuntu0.18.04.10) ...\n",
            "Selecting previously unselected package libapache2-mod-php7.2.\n",
            "Preparing to unpack .../17-libapache2-mod-php7.2_7.2.24-0ubuntu0.18.04.10_amd64.deb ...\n",
            "Unpacking libapache2-mod-php7.2 (7.2.24-0ubuntu0.18.04.10) ...\n",
            "Selecting previously unselected package php7.2.\n",
            "Preparing to unpack .../18-php7.2_7.2.24-0ubuntu0.18.04.10_all.deb ...\n",
            "Unpacking php7.2 (7.2.24-0ubuntu0.18.04.10) ...\n",
            "Selecting previously unselected package php.\n",
            "Preparing to unpack .../19-php_1%3a7.2+60ubuntu1_all.deb ...\n",
            "Unpacking php (1:7.2+60ubuntu1) ...\n",
            "Selecting previously unselected package ssl-cert.\n",
            "Preparing to unpack .../20-ssl-cert_1.0.39_all.deb ...\n",
            "Unpacking ssl-cert (1.0.39) ...\n",
            "Setting up libapr1:amd64 (1.6.3-2) ...\n",
            "Setting up apache2-data (2.4.29-1ubuntu4.20) ...\n",
            "Setting up ssl-cert (1.0.39) ...\n",
            "Setting up libmagic-mgc (1:5.32-2ubuntu0.4) ...\n",
            "Setting up libmagic1:amd64 (1:5.32-2ubuntu0.4) ...\n",
            "Setting up libaprutil1:amd64 (1.6.1-2) ...\n",
            "Setting up php-common (1:60ubuntu1) ...\n",
            "Created symlink /etc/systemd/system/timers.target.wants/phpsessionclean.timer → /lib/systemd/system/phpsessionclean.timer.\n",
            "Setting up liblua5.2-0:amd64 (5.2.4-1.1build1) ...\n",
            "Setting up libaprutil1-ldap:amd64 (1.6.1-2) ...\n",
            "Setting up php7.2-common (7.2.24-0ubuntu0.18.04.10) ...\n",
            "\n",
            "Creating config file /etc/php/7.2/mods-available/calendar.ini with new version\n",
            "\n",
            "Creating config file /etc/php/7.2/mods-available/ctype.ini with new version\n",
            "\n",
            "Creating config file /etc/php/7.2/mods-available/exif.ini with new version\n",
            "\n",
            "Creating config file /etc/php/7.2/mods-available/fileinfo.ini with new version\n",
            "\n",
            "Creating config file /etc/php/7.2/mods-available/ftp.ini with new version\n",
            "\n",
            "Creating config file /etc/php/7.2/mods-available/gettext.ini with new version\n",
            "\n",
            "Creating config file /etc/php/7.2/mods-available/iconv.ini with new version\n",
            "\n",
            "Creating config file /etc/php/7.2/mods-available/pdo.ini with new version\n",
            "\n",
            "Creating config file /etc/php/7.2/mods-available/phar.ini with new version\n",
            "\n",
            "Creating config file /etc/php/7.2/mods-available/posix.ini with new version\n",
            "\n",
            "Creating config file /etc/php/7.2/mods-available/shmop.ini with new version\n",
            "\n",
            "Creating config file /etc/php/7.2/mods-available/sockets.ini with new version\n",
            "\n",
            "Creating config file /etc/php/7.2/mods-available/sysvmsg.ini with new version\n",
            "\n",
            "Creating config file /etc/php/7.2/mods-available/sysvsem.ini with new version\n",
            "\n",
            "Creating config file /etc/php/7.2/mods-available/sysvshm.ini with new version\n",
            "\n",
            "Creating config file /etc/php/7.2/mods-available/tokenizer.ini with new version\n",
            "Setting up libaprutil1-dbd-sqlite3:amd64 (1.6.1-2) ...\n",
            "Setting up apache2-utils (2.4.29-1ubuntu4.20) ...\n",
            "Setting up apache2-bin (2.4.29-1ubuntu4.20) ...\n",
            "Setting up php7.2-readline (7.2.24-0ubuntu0.18.04.10) ...\n",
            "\n",
            "Creating config file /etc/php/7.2/mods-available/readline.ini with new version\n",
            "Setting up php7.2-json (7.2.24-0ubuntu0.18.04.10) ...\n",
            "\n",
            "Creating config file /etc/php/7.2/mods-available/json.ini with new version\n",
            "Setting up php7.2-opcache (7.2.24-0ubuntu0.18.04.10) ...\n",
            "\n",
            "Creating config file /etc/php/7.2/mods-available/opcache.ini with new version\n",
            "Setting up apache2 (2.4.29-1ubuntu4.20) ...\n",
            "Enabling module mpm_event.\n",
            "Enabling module authz_core.\n",
            "Enabling module authz_host.\n",
            "Enabling module authn_core.\n",
            "Enabling module auth_basic.\n",
            "Enabling module access_compat.\n",
            "Enabling module authn_file.\n",
            "Enabling module authz_user.\n",
            "Enabling module alias.\n",
            "Enabling module dir.\n",
            "Enabling module autoindex.\n",
            "Enabling module env.\n",
            "Enabling module mime.\n",
            "Enabling module negotiation.\n",
            "Enabling module setenvif.\n",
            "Enabling module filter.\n",
            "Enabling module deflate.\n",
            "Enabling module status.\n",
            "Enabling module reqtimeout.\n",
            "Enabling conf charset.\n",
            "Enabling conf localized-error-pages.\n",
            "Enabling conf other-vhosts-access-log.\n",
            "Enabling conf security.\n",
            "Enabling conf serve-cgi-bin.\n",
            "Enabling site 000-default.\n",
            "Created symlink /etc/systemd/system/multi-user.target.wants/apache2.service → /lib/systemd/system/apache2.service.\n",
            "Created symlink /etc/systemd/system/multi-user.target.wants/apache-htcacheclean.service → /lib/systemd/system/apache-htcacheclean.service.\n",
            "invoke-rc.d: could not determine current runlevel\n",
            "invoke-rc.d: policy-rc.d denied execution of start.\n",
            "Setting up php7.2-cli (7.2.24-0ubuntu0.18.04.10) ...\n",
            "update-alternatives: using /usr/bin/php7.2 to provide /usr/bin/php (php) in auto mode\n",
            "update-alternatives: using /usr/bin/phar7.2 to provide /usr/bin/phar (phar) in auto mode\n",
            "update-alternatives: using /usr/bin/phar.phar7.2 to provide /usr/bin/phar.phar (phar.phar) in auto mode\n",
            "\n",
            "Creating config file /etc/php/7.2/cli/php.ini with new version\n",
            "Setting up libapache2-mod-php7.2 (7.2.24-0ubuntu0.18.04.10) ...\n",
            "\n",
            "Creating config file /etc/php/7.2/apache2/php.ini with new version\n",
            "Module mpm_event disabled.\n",
            "Enabling module mpm_prefork.\n",
            "apache2_switch_mpm Switch to prefork\n",
            "invoke-rc.d: could not determine current runlevel\n",
            "invoke-rc.d: policy-rc.d denied execution of restart.\n",
            "apache2_invoke: Enable module php7.2\n",
            "invoke-rc.d: could not determine current runlevel\n",
            "invoke-rc.d: policy-rc.d denied execution of restart.\n",
            "Setting up php7.2 (7.2.24-0ubuntu0.18.04.10) ...\n",
            "Setting up php (1:7.2+60ubuntu1) ...\n",
            "Processing triggers for systemd (237-3ubuntu10.52) ...\n",
            "Processing triggers for man-db (2.8.3-2ubuntu0.1) ...\n",
            "Processing triggers for libc-bin (2.27-3ubuntu1.3) ...\n",
            "/sbin/ldconfig.real: /usr/local/lib/python3.7/dist-packages/ideep4py/lib/libmkldnn.so.0 is not a symbolic link\n",
            "\n",
            "Reading package lists... Done\n",
            "Building dependency tree       \n",
            "Reading state information... Done\n",
            "The following additional packages will be installed:\n",
            "  chromium-browser-l10n chromium-codecs-ffmpeg-extra\n",
            "Suggested packages:\n",
            "  webaccounts-chromium-extension unity-chromium-extension\n",
            "The following NEW packages will be installed:\n",
            "  chromium-browser chromium-browser-l10n chromium-codecs-ffmpeg-extra\n",
            "0 upgraded, 3 newly installed, 0 to remove and 43 not upgraded.\n",
            "Need to get 89.0 MB of archives.\n",
            "After this operation, 310 MB of additional disk space will be used.\n",
            "Get:1 http://archive.ubuntu.com/ubuntu bionic-updates/universe amd64 chromium-codecs-ffmpeg-extra amd64 95.0.4638.69-0ubuntu0.18.04.1 [1,135 kB]\n",
            "Get:2 http://archive.ubuntu.com/ubuntu bionic-updates/universe amd64 chromium-browser amd64 95.0.4638.69-0ubuntu0.18.04.1 [83.6 MB]\n",
            "Get:3 http://archive.ubuntu.com/ubuntu bionic-updates/universe amd64 chromium-browser-l10n all 95.0.4638.69-0ubuntu0.18.04.1 [4,249 kB]\n",
            "Fetched 89.0 MB in 10s (9,278 kB/s)\n",
            "Selecting previously unselected package chromium-codecs-ffmpeg-extra.\n",
            "(Reading database ... 156101 files and directories currently installed.)\n",
            "Preparing to unpack .../chromium-codecs-ffmpeg-extra_95.0.4638.69-0ubuntu0.18.04.1_amd64.deb ...\n",
            "Unpacking chromium-codecs-ffmpeg-extra (95.0.4638.69-0ubuntu0.18.04.1) ...\n",
            "Selecting previously unselected package chromium-browser.\n",
            "Preparing to unpack .../chromium-browser_95.0.4638.69-0ubuntu0.18.04.1_amd64.deb ...\n",
            "Unpacking chromium-browser (95.0.4638.69-0ubuntu0.18.04.1) ...\n",
            "Selecting previously unselected package chromium-browser-l10n.\n",
            "Preparing to unpack .../chromium-browser-l10n_95.0.4638.69-0ubuntu0.18.04.1_all.deb ...\n",
            "Unpacking chromium-browser-l10n (95.0.4638.69-0ubuntu0.18.04.1) ...\n",
            "Setting up chromium-codecs-ffmpeg-extra (95.0.4638.69-0ubuntu0.18.04.1) ...\n",
            "Setting up chromium-browser (95.0.4638.69-0ubuntu0.18.04.1) ...\n",
            "update-alternatives: using /usr/bin/chromium-browser to provide /usr/bin/x-www-browser (x-www-browser) in auto mode\n",
            "update-alternatives: using /usr/bin/chromium-browser to provide /usr/bin/gnome-www-browser (gnome-www-browser) in auto mode\n",
            "Setting up chromium-browser-l10n (95.0.4638.69-0ubuntu0.18.04.1) ...\n",
            "Processing triggers for man-db (2.8.3-2ubuntu0.1) ...\n",
            "Processing triggers for hicolor-icon-theme (0.17-2) ...\n",
            "Processing triggers for mime-support (3.60ubuntu1) ...\n",
            "Processing triggers for libc-bin (2.27-3ubuntu1.3) ...\n",
            "/sbin/ldconfig.real: /usr/local/lib/python3.7/dist-packages/ideep4py/lib/libmkldnn.so.0 is not a symbolic link\n",
            "\n",
            "Collecting rpa\n",
            "  Downloading rpa-1.45.0.tar.gz (5.6 kB)\n",
            "Collecting tagui>=1.45.0\n",
            "  Downloading tagui-1.45.0.tar.gz (25 kB)\n",
            "Building wheels for collected packages: rpa, tagui\n",
            "  Building wheel for rpa (setup.py) ... \u001b[?25l\u001b[?25hdone\n",
            "  Created wheel for rpa: filename=rpa-1.45.0-py3-none-any.whl size=6160 sha256=522f010f2395ec1576e2d824eed429132d6d9191594c56956b739355f5aa1b12\n",
            "  Stored in directory: /root/.cache/pip/wheels/c2/ca/75/340ca8e29cea76144b86eea85e5eb31876b215d46233984cfb\n",
            "  Building wheel for tagui (setup.py) ... \u001b[?25l\u001b[?25hdone\n",
            "  Created wheel for tagui: filename=tagui-1.45.0-py3-none-any.whl size=19191 sha256=43c5caf655a2e27c92fca652e49877b832affff634847fd2c4f2f0267bebb806\n",
            "  Stored in directory: /root/.cache/pip/wheels/83/c7/1d/8c7fd3f8ce1078cf83ff06144e8744bcf34962c186f3a24b84\n",
            "Successfully built rpa tagui\n",
            "Installing collected packages: tagui, rpa\n",
            "Successfully installed rpa-1.45.0 tagui-1.45.0\n",
            "[RPA][INFO] - setting up TagUI for use in your Python environment\n",
            "[RPA][INFO] - downloading TagUI (~200MB) and unzipping to below folder...\n",
            "[RPA][INFO] - /root\n",
            "[RPA][INFO] - done. syncing TagUI with stable cutting edge version\n",
            "[RPA][INFO] - TagUI now ready for use in your Python environment\n",
            "[RPA][INFO] - visual automation (optional) requires special setup on Linux,\n",
            "[RPA][INFO] - see the link below to install OpenCV and Tesseract libraries\n",
            "[RPA][INFO] - https://sikulix-2014.readthedocs.io/en/latest/newslinux.html\n",
            "Reading package lists... Done\n",
            "Building dependency tree       \n",
            "Reading state information... Done\n",
            "The following NEW packages will be installed:\n",
            "  xvfb\n",
            "0 upgraded, 1 newly installed, 0 to remove and 43 not upgraded.\n",
            "Need to get 784 kB of archives.\n",
            "After this operation, 2,270 kB of additional disk space will be used.\n",
            "Get:1 http://archive.ubuntu.com/ubuntu bionic-updates/universe amd64 xvfb amd64 2:1.19.6-1ubuntu4.9 [784 kB]\n",
            "Fetched 784 kB in 2s (437 kB/s)\n",
            "Selecting previously unselected package xvfb.\n",
            "(Reading database ... 156463 files and directories currently installed.)\n",
            "Preparing to unpack .../xvfb_2%3a1.19.6-1ubuntu4.9_amd64.deb ...\n",
            "Unpacking xvfb (2:1.19.6-1ubuntu4.9) ...\n",
            "Setting up xvfb (2:1.19.6-1ubuntu4.9) ...\n",
            "Processing triggers for man-db (2.8.3-2ubuntu0.1) ...\n",
            "Collecting pyvirtualdisplay\n",
            "  Downloading PyVirtualDisplay-2.2-py3-none-any.whl (15 kB)\n",
            "Collecting EasyProcess\n",
            "  Downloading EasyProcess-0.3-py2.py3-none-any.whl (7.9 kB)\n",
            "Installing collected packages: EasyProcess, pyvirtualdisplay\n",
            "Successfully installed EasyProcess-0.3 pyvirtualdisplay-2.2\n"
          ]
        },
        {
          "output_type": "execute_result",
          "data": {
            "text/plain": [
              "<pyvirtualdisplay.display.Display at 0x7ffb46adb1d0>"
            ]
          },
          "metadata": {},
          "execution_count": 1
        }
      ]
    },
    {
      "cell_type": "code",
      "metadata": {
        "id": "LCJODbe5cpD_"
      },
      "source": [
        ""
      ],
      "execution_count": null,
      "outputs": []
    },
    {
      "cell_type": "markdown",
      "metadata": {
        "id": "Jp5IlnDGcu3L"
      },
      "source": [
        "# Importing Libraries and Packages"
      ]
    },
    {
      "cell_type": "code",
      "metadata": {
        "id": "pKKHoqXjcpCX"
      },
      "source": [
        "# Importing Libraries\n",
        "import numpy as np\n",
        "import pandas as pd\n",
        "import matplotlib.pyplot as plt\n",
        "import seaborn as sns\n",
        "import rpa as r\n",
        "pd.set_option('display.max_columns', None)\n",
        "import time\n",
        "import random"
      ],
      "execution_count": null,
      "outputs": []
    },
    {
      "cell_type": "markdown",
      "metadata": {
        "id": "hUZdwsT2c7a0"
      },
      "source": [
        "# Ingestion"
      ]
    },
    {
      "cell_type": "markdown",
      "metadata": {
        "id": "zbdVPyvfc_Dm"
      },
      "source": [
        "## Dictionary or Sheet Creation"
      ]
    },
    {
      "cell_type": "code",
      "metadata": {
        "id": "DXsfcI-Zco_V"
      },
      "source": [
        "# Creating a Dictionary to store details\n",
        "result = {'Advert_Header': [], 'Post_Time_Desc' : [], 'Post_Location': [], 'Property_Address' : [],'Property_Price':[],\n",
        "         'Property_Type' : [], 'Condition': [], 'Furnishing': [], 'Parking_Spaces' : [], 'Secure_Parking' : [],\n",
        "         'Square_Meters' : [], 'Advert_Desc' : [], 'Contact_Phone' : [], 'Seller_Name' : []}"
      ],
      "execution_count": null,
      "outputs": []
    },
    {
      "cell_type": "markdown",
      "metadata": {
        "id": "0mDe6KXedTxU"
      },
      "source": [
        "## Scraping WorkFlow"
      ]
    },
    {
      "cell_type": "code",
      "metadata": {
        "id": "Rw14LF1EiMyI"
      },
      "source": [
        "# Changing Directory to save images and Picture Files\n",
        "os.chdir(\"/content/drive/MyDrive/Parallel_Score/Hospitals\")"
      ],
      "execution_count": null,
      "outputs": []
    },
    {
      "cell_type": "code",
      "metadata": {
        "colab": {
          "base_uri": "https://localhost:8080/"
        },
        "id": "CVRN5i7rco8M",
        "outputId": "e86b774b-3b5b-4e49-f478-aca012a847ee"
      },
      "source": [
        "# Scraping Workflow \n",
        "r.init()\n",
        "r.url(\"https://bit.ly/3orts4g\")\n",
        "# Wait for site to load\n",
        "r.wait(3)\n",
        "\n",
        "#Signing In\n",
        "r.click(\"//div[normalize-space()='Sign in']\")\n",
        "r.wait(1)\n",
        "# Signing via email\n",
        "r.click(\"//span[contains(text(),'Sign in via e-mail or phone')]\")\n",
        "r.type(\"//input[@class='fw-input qa-login-field']\", \"temmyonfire@gmail.com\")\n",
        "r.wait(1)\n",
        "r.type(\"//input[@type='password']\", \"@Onaneye2020\")\n",
        "r.wait(1)\n",
        "r.click(\"//span[contains(text(),'SIGN IN')]\")\n",
        "r.wait(4)\n",
        "\n",
        "# Scraping and Data Ingestion or Fetching Loop\n",
        "n=1\n",
        "for i in range(7):\n",
        "    print(f\"Currently at Warehouse {n}\")\n",
        "    r.hover(f'//*[@id=\"js-advert-listing-wrapper\"]/div[{n}]/div')\n",
        "    r.wait(2)\n",
        "    r.click(f'//*[@id=\"js-advert-listing-wrapper\"]/div[{n}]/div')\n",
        "    n += 1\n",
        "    r.wait(3)\n",
        "    r.snap('page',f'jiji_top_{i}.png')\n",
        "    r.hover(\"//div[@class='b-advert-title-inner qa-advert-title b-advert-title-inner--h1']\")\n",
        "    result['Advert_Header'].append(r.read(\"//div[@class='b-advert-title-inner qa-advert-title b-advert-title-inner--h1']\"))\n",
        "    result['Post_Time_Desc'].append(r.read(\"time\"))\n",
        "    r.snap('page',f'jiji_bottom_{i}.png')\n",
        "    r.wait(1)\n",
        "    result['Post_Location'].append(r.read(\".b-advert-info-statistics:nth-child(3)\"))\n",
        "    result['Property_Address'].append(r.read(\".b-advert-attribute:nth-child(1) .b-advert-attribute__value\"))\n",
        "    result['Property_Price'].append(r.read(\"//span[@class='qa-advert-price-view-value b-alt-advert-price__text']\"))\n",
        "    result['Property_Type'].append(r.read(\".b-advert-attribute:nth-child(2) .b-advert-attribute__value\"))\n",
        "    result['Condition'].append(r.read(\".b-advert-attribute:nth-child(3) .b-advert-attribute__value\"))\n",
        "    r.wait(1)\n",
        "    result['Furnishing'].append(r.read(\".b-advert-attribute:nth-child(4) .b-advert-attribute__value\"))\n",
        "    result['Parking_Spaces'].append(r.read(\".b-advert-attribute:nth-child(5) .b-advert-attribute__value\"))\n",
        "    result['Secure_Parking'].append(r.read(\".b-advert-attribute:nth-child(6) .b-advert-attribute__value\"))\n",
        "    result['Square_Meters'].append(r.read(\".b-advert-attribute:nth-child(7) .b-advert-attribute__value\"))\n",
        "    result['Advert_Desc'].append(r.read(\"//div[@class='qa-advert-description b-advert__description-text']\"))\n",
        "    \n",
        "    r.wait(2)\n",
        "    r.click(\"//div[@class='h-flex-center b-btn b-btn--main h-height-40']//div[@class='b-button__text'][normalize-space()='Show contact']\")\n",
        "    r.wait(2)\n",
        "    result['Contact_Phone'].append(r.read(\"//div[@class='h-flex-center b-btn b-btn--main h-height-40']\"))\n",
        "    result['Seller_Name'].append(r.read(\"//div[@class='b-seller-block__name']\"))\n",
        "    r.dom('window.history.back()')\n",
        "    r.wait(3)\n",
        "    "
      ],
      "execution_count": null,
      "outputs": [
        {
          "output_type": "stream",
          "name": "stdout",
          "text": [
            "[RPA][ERROR] - cannot find //div[normalize-space()='Sign in']\n",
            "[RPA][ERROR] - cannot find //span[contains(text(),'Sign in via e-mail or phone')]\n",
            "[RPA][ERROR] - cannot find //input[@class='fw-input qa-login-field']\n",
            "[RPA][ERROR] - cannot find //input[@type='password']\n",
            "[RPA][ERROR] - cannot find //span[contains(text(),'SIGN IN')]\n",
            "[RPA][ERROR] - cannot find //div[@class='h-flex-center b-btn b-btn--main h-height-40']//div[@class='b-button__text'][normalize-space()='Show contact']\n",
            "[RPA][ERROR] - cannot find //div[@class='h-flex-center b-btn b-btn--main h-height-40']//div[@class='b-button__text'][normalize-space()='Show contact']\n",
            "[RPA][ERROR] - cannot find //div[@class='h-flex-center b-btn b-btn--main h-height-40']//div[@class='b-button__text'][normalize-space()='Show contact']\n",
            "[RPA][ERROR] - cannot find .b-advert-attribute:nth-child(7) .b-advert-attribute__value\n"
          ]
        }
      ]
    },
    {
      "cell_type": "code",
      "metadata": {
        "colab": {
          "base_uri": "https://localhost:8080/"
        },
        "id": "wWQ-ibATco5j",
        "outputId": "aee7ebd9-e926-477b-f914-ab6f6e0f967a"
      },
      "source": [
        "r.close()"
      ],
      "execution_count": null,
      "outputs": [
        {
          "output_type": "execute_result",
          "data": {
            "text/plain": [
              "True"
            ]
          },
          "metadata": {},
          "execution_count": 6
        }
      ]
    },
    {
      "cell_type": "markdown",
      "metadata": {
        "id": "bx_Z2KOXd1hv"
      },
      "source": [
        "# Converting Ingested data to DataFrame"
      ]
    },
    {
      "cell_type": "code",
      "metadata": {
        "colab": {
          "base_uri": "https://localhost:8080/",
          "height": 1000
        },
        "id": "i4qiJaO9gmfZ",
        "outputId": "830ba736-20c3-439c-cdce-fbb9c89997da"
      },
      "source": [
        "# Converting Ingested Data to Datafram\n",
        "df = pd.DataFrame({ key:pd.Series(value) for key, value in result.items() })\n",
        "df.head(20)"
      ],
      "execution_count": null,
      "outputs": [
        {
          "output_type": "execute_result",
          "data": {
            "text/html": [
              "<div>\n",
              "<style scoped>\n",
              "    .dataframe tbody tr th:only-of-type {\n",
              "        vertical-align: middle;\n",
              "    }\n",
              "\n",
              "    .dataframe tbody tr th {\n",
              "        vertical-align: top;\n",
              "    }\n",
              "\n",
              "    .dataframe thead th {\n",
              "        text-align: right;\n",
              "    }\n",
              "</style>\n",
              "<table border=\"1\" class=\"dataframe\">\n",
              "  <thead>\n",
              "    <tr style=\"text-align: right;\">\n",
              "      <th></th>\n",
              "      <th>Advert_Header</th>\n",
              "      <th>Post_Time_Desc</th>\n",
              "      <th>Post_Location</th>\n",
              "      <th>Property_Address</th>\n",
              "      <th>Property_Type</th>\n",
              "      <th>Condition</th>\n",
              "      <th>Furnishing</th>\n",
              "      <th>Parking_Spaces</th>\n",
              "      <th>Secure_Parking</th>\n",
              "      <th>Square_Meters</th>\n",
              "      <th>Advert_Desc</th>\n",
              "      <th>Contact_Phone</th>\n",
              "      <th>Seller_Name</th>\n",
              "    </tr>\n",
              "  </thead>\n",
              "  <tbody>\n",
              "    <tr>\n",
              "      <th>0</th>\n",
              "      <td>For Lease: 850sqm Warehouse at Imola, Iju Road...</td>\n",
              "      <td>Posted 50 min ago</td>\n",
              "      <td>Lagos, Agege, Pen Cinema</td>\n",
              "      <td>Iju road,  by Imola,  Agege</td>\n",
              "      <td>Warehouse</td>\n",
              "      <td>Fairly Used</td>\n",
              "      <td>Unfurnished</td>\n",
              "      <td>10+</td>\n",
              "      <td>Yes</td>\n",
              "      <td>850\\n         \\n            sqm</td>\n",
              "      <td>For lease \\na 850sqm warehouse with toilet and...</td>\n",
              "      <td>07068034772</td>\n",
              "      <td>TeeQredible Limited</td>\n",
              "    </tr>\n",
              "    <tr>\n",
              "      <th>1</th>\n",
              "      <td>For Lease: Newly Built 4650sqm Warehouse at Ob...</td>\n",
              "      <td>Posted 1 hour ago</td>\n",
              "      <td>Lagos, Ikeja</td>\n",
              "      <td>Oba Akran,  Ikeja</td>\n",
              "      <td>Warehouse</td>\n",
              "      <td>Newly Built</td>\n",
              "      <td>Unfurnished</td>\n",
              "      <td>10+</td>\n",
              "      <td>Yes</td>\n",
              "      <td>4650\\n         \\n            sqm</td>\n",
              "      <td>For long lease \\na newly built standard and hi...</td>\n",
              "      <td>07068034772</td>\n",
              "      <td>TeeQredible Limited</td>\n",
              "    </tr>\n",
              "    <tr>\n",
              "      <th>2</th>\n",
              "      <td>For Lease: 10,000sqm Warehouse on 5acres of La...</td>\n",
              "      <td>Posted 1 hour ago</td>\n",
              "      <td>Lagos, Ikeja</td>\n",
              "      <td>ikeja industrial area</td>\n",
              "      <td>Warehouse</td>\n",
              "      <td>Fairly Used</td>\n",
              "      <td>Unfurnished</td>\n",
              "      <td>10+</td>\n",
              "      <td>Yes</td>\n",
              "      <td>10000\\n         \\n            sqm</td>\n",
              "      <td>For long lease\\na standard and high roof 10000...</td>\n",
              "      <td>07068034772</td>\n",
              "      <td>TeeQredible Limited</td>\n",
              "    </tr>\n",
              "    <tr>\n",
              "      <th>3</th>\n",
              "      <td>For Lease: 850sqm Warehouse at Imola, Iju Road...</td>\n",
              "      <td>Posted 50 min ago</td>\n",
              "      <td>Lagos, Agege, Pen Cinema</td>\n",
              "      <td>Iju road,  by Imola,  Agege</td>\n",
              "      <td>Warehouse</td>\n",
              "      <td>Fairly Used</td>\n",
              "      <td>Unfurnished</td>\n",
              "      <td>10+</td>\n",
              "      <td>Yes</td>\n",
              "      <td>850\\n         \\n            sqm</td>\n",
              "      <td>For lease \\na 850sqm warehouse with toilet and...</td>\n",
              "      <td>07068034772</td>\n",
              "      <td>TeeQredible Limited</td>\n",
              "    </tr>\n",
              "    <tr>\n",
              "      <th>4</th>\n",
              "      <td>For Lease: 850sqm Warehouse at Imola, Iju Road...</td>\n",
              "      <td>Posted 50 min ago</td>\n",
              "      <td>Lagos, Agege, Pen Cinema</td>\n",
              "      <td>Iju road,  by Imola,  Agege</td>\n",
              "      <td>Warehouse</td>\n",
              "      <td>Fairly Used</td>\n",
              "      <td>Unfurnished</td>\n",
              "      <td>10+</td>\n",
              "      <td>Yes</td>\n",
              "      <td>850\\n         \\n            sqm</td>\n",
              "      <td>For lease \\na 850sqm warehouse with toilet and...</td>\n",
              "      <td>07068034772</td>\n",
              "      <td>TeeQredible Limited</td>\n",
              "    </tr>\n",
              "    <tr>\n",
              "      <th>5</th>\n",
              "      <td>For Lease: Newly Built 4650sqm Warehouse at Ob...</td>\n",
              "      <td>Posted 1 hour ago</td>\n",
              "      <td>Lagos, Ikeja</td>\n",
              "      <td>Oba Akran,  Ikeja</td>\n",
              "      <td>Warehouse</td>\n",
              "      <td>Newly Built</td>\n",
              "      <td>Unfurnished</td>\n",
              "      <td>10+</td>\n",
              "      <td>Yes</td>\n",
              "      <td>4650\\n         \\n            sqm</td>\n",
              "      <td>For long lease \\na newly built standard and hi...</td>\n",
              "      <td>07068034772</td>\n",
              "      <td>TeeQredible Limited</td>\n",
              "    </tr>\n",
              "    <tr>\n",
              "      <th>6</th>\n",
              "      <td>2 Bay Warehouses for Lease at Akute With Offices</td>\n",
              "      <td>Posted 1 hour ago</td>\n",
              "      <td>Ogun, Obafemi-Owode</td>\n",
              "      <td>Akute</td>\n",
              "      <td>Warehouse</td>\n",
              "      <td>Newly Built</td>\n",
              "      <td>Semi-Furnished</td>\n",
              "      <td>5</td>\n",
              "      <td>Yes</td>\n",
              "      <td>700\\n         \\n            sqm</td>\n",
              "      <td>Direct Lease : 2 Bay Warehouses for lease at a...</td>\n",
              "      <td>07063798410</td>\n",
              "      <td>Emi-So property</td>\n",
              "    </tr>\n",
              "    <tr>\n",
              "      <th>7</th>\n",
              "      <td>Spacious Warehouse for Lease</td>\n",
              "      <td>Posted 4 hrs ago</td>\n",
              "      <td>Lagos, Agbara-Igbesan</td>\n",
              "      <td>Plot 9-18 Opic industrial estate Agbara Ogun S...</td>\n",
              "      <td>Warehouse</td>\n",
              "      <td>Unfurnished</td>\n",
              "      <td>10+</td>\n",
              "      <td>Yes</td>\n",
              "      <td>15000\\n         \\n            sqm</td>\n",
              "      <td></td>\n",
              "      <td>A well secured and spacious Wearhouse, measuri...</td>\n",
              "      <td>09080430759</td>\n",
              "      <td>Kamdi Uzodinma</td>\n",
              "    </tr>\n",
              "    <tr>\n",
              "      <th>8</th>\n",
              "      <td>1400sqm Warehouse</td>\n",
              "      <td>Posted 4 hrs ago</td>\n",
              "      <td>Lagos, Ikeja, Oba Akran</td>\n",
              "      <td>Oba Akran</td>\n",
              "      <td>Warehouse</td>\n",
              "      <td>Fairly Used</td>\n",
              "      <td>Unfurnished</td>\n",
              "      <td>10+</td>\n",
              "      <td>Yes</td>\n",
              "      <td>1400\\n         \\n            sqm</td>\n",
              "      <td>1400sqm warehouse available in Ikeja, Oba Akra...</td>\n",
              "      <td>08144449550</td>\n",
              "      <td>Blessing Omoregie</td>\n",
              "    </tr>\n",
              "    <tr>\n",
              "      <th>9</th>\n",
              "      <td>Lease Standard Warehouse Capacity of 50,500 Sqft</td>\n",
              "      <td>Posted 4 hrs ago</td>\n",
              "      <td>Lagos, Oshodi, Oshodi Expressway</td>\n",
              "      <td>Apapa-Oshodi Expressway</td>\n",
              "      <td>Warehouse</td>\n",
              "      <td>Fairly Used</td>\n",
              "      <td>Unfurnished</td>\n",
              "      <td>10+</td>\n",
              "      <td>5050\\n         \\n            sqm</td>\n",
              "      <td>730\\n         \\n            days</td>\n",
              "      <td>Location: oshodi industrial area \\nfor lease s...</td>\n",
              "      <td>07057125752</td>\n",
              "      <td>Three Six Properties</td>\n",
              "    </tr>\n",
              "  </tbody>\n",
              "</table>\n",
              "</div>"
            ],
            "text/plain": [
              "                                       Advert_Header     Post_Time_Desc  \\\n",
              "0  For Lease: 850sqm Warehouse at Imola, Iju Road...  Posted 50 min ago   \n",
              "1  For Lease: Newly Built 4650sqm Warehouse at Ob...  Posted 1 hour ago   \n",
              "2  For Lease: 10,000sqm Warehouse on 5acres of La...  Posted 1 hour ago   \n",
              "3  For Lease: 850sqm Warehouse at Imola, Iju Road...  Posted 50 min ago   \n",
              "4  For Lease: 850sqm Warehouse at Imola, Iju Road...  Posted 50 min ago   \n",
              "5  For Lease: Newly Built 4650sqm Warehouse at Ob...  Posted 1 hour ago   \n",
              "6   2 Bay Warehouses for Lease at Akute With Offices  Posted 1 hour ago   \n",
              "7                       Spacious Warehouse for Lease   Posted 4 hrs ago   \n",
              "8                                  1400sqm Warehouse   Posted 4 hrs ago   \n",
              "9   Lease Standard Warehouse Capacity of 50,500 Sqft   Posted 4 hrs ago   \n",
              "\n",
              "                      Post_Location  \\\n",
              "0          Lagos, Agege, Pen Cinema   \n",
              "1                      Lagos, Ikeja   \n",
              "2                      Lagos, Ikeja   \n",
              "3          Lagos, Agege, Pen Cinema   \n",
              "4          Lagos, Agege, Pen Cinema   \n",
              "5                      Lagos, Ikeja   \n",
              "6               Ogun, Obafemi-Owode   \n",
              "7             Lagos, Agbara-Igbesan   \n",
              "8           Lagos, Ikeja, Oba Akran   \n",
              "9  Lagos, Oshodi, Oshodi Expressway   \n",
              "\n",
              "                                    Property_Address Property_Type  \\\n",
              "0                        Iju road,  by Imola,  Agege     Warehouse   \n",
              "1                                  Oba Akran,  Ikeja     Warehouse   \n",
              "2                              ikeja industrial area     Warehouse   \n",
              "3                        Iju road,  by Imola,  Agege     Warehouse   \n",
              "4                        Iju road,  by Imola,  Agege     Warehouse   \n",
              "5                                  Oba Akran,  Ikeja     Warehouse   \n",
              "6                                              Akute     Warehouse   \n",
              "7  Plot 9-18 Opic industrial estate Agbara Ogun S...     Warehouse   \n",
              "8                                          Oba Akran     Warehouse   \n",
              "9                            Apapa-Oshodi Expressway     Warehouse   \n",
              "\n",
              "     Condition      Furnishing Parking_Spaces  \\\n",
              "0  Fairly Used     Unfurnished            10+   \n",
              "1  Newly Built     Unfurnished            10+   \n",
              "2  Fairly Used     Unfurnished            10+   \n",
              "3  Fairly Used     Unfurnished            10+   \n",
              "4  Fairly Used     Unfurnished            10+   \n",
              "5  Newly Built     Unfurnished            10+   \n",
              "6  Newly Built  Semi-Furnished              5   \n",
              "7  Unfurnished             10+            Yes   \n",
              "8  Fairly Used     Unfurnished            10+   \n",
              "9  Fairly Used     Unfurnished            10+   \n",
              "\n",
              "                      Secure_Parking                      Square_Meters  \\\n",
              "0                                Yes    850\\n         \\n            sqm   \n",
              "1                                Yes   4650\\n         \\n            sqm   \n",
              "2                                Yes  10000\\n         \\n            sqm   \n",
              "3                                Yes    850\\n         \\n            sqm   \n",
              "4                                Yes    850\\n         \\n            sqm   \n",
              "5                                Yes   4650\\n         \\n            sqm   \n",
              "6                                Yes    700\\n         \\n            sqm   \n",
              "7  15000\\n         \\n            sqm                                      \n",
              "8                                Yes   1400\\n         \\n            sqm   \n",
              "9   5050\\n         \\n            sqm   730\\n         \\n            days   \n",
              "\n",
              "                                         Advert_Desc Contact_Phone  \\\n",
              "0  For lease \\na 850sqm warehouse with toilet and...   07068034772   \n",
              "1  For long lease \\na newly built standard and hi...   07068034772   \n",
              "2  For long lease\\na standard and high roof 10000...   07068034772   \n",
              "3  For lease \\na 850sqm warehouse with toilet and...   07068034772   \n",
              "4  For lease \\na 850sqm warehouse with toilet and...   07068034772   \n",
              "5  For long lease \\na newly built standard and hi...   07068034772   \n",
              "6  Direct Lease : 2 Bay Warehouses for lease at a...   07063798410   \n",
              "7  A well secured and spacious Wearhouse, measuri...   09080430759   \n",
              "8  1400sqm warehouse available in Ikeja, Oba Akra...   08144449550   \n",
              "9  Location: oshodi industrial area \\nfor lease s...   07057125752   \n",
              "\n",
              "            Seller_Name  \n",
              "0   TeeQredible Limited  \n",
              "1   TeeQredible Limited  \n",
              "2   TeeQredible Limited  \n",
              "3   TeeQredible Limited  \n",
              "4   TeeQredible Limited  \n",
              "5   TeeQredible Limited  \n",
              "6       Emi-So property  \n",
              "7        Kamdi Uzodinma  \n",
              "8     Blessing Omoregie  \n",
              "9  Three Six Properties  "
            ]
          },
          "metadata": {},
          "execution_count": 9
        }
      ]
    },
    {
      "cell_type": "code",
      "metadata": {
        "id": "xlLzo2i6glAD"
      },
      "source": [
        ""
      ],
      "execution_count": null,
      "outputs": []
    },
    {
      "cell_type": "code",
      "metadata": {
        "colab": {
          "base_uri": "https://localhost:8080/",
          "height": 354
        },
        "id": "H0j6y9N3d1TA",
        "outputId": "de1cdecb-0a56-4280-fe9d-1a5ba7a2d5c0"
      },
      "source": [
        "# Converting Ingested Data to Datafram\n",
        "df = pd.DataFrame({ key:pd.Series(value) for key, value in result.items() })\n",
        "df.head()"
      ],
      "execution_count": null,
      "outputs": [
        {
          "output_type": "execute_result",
          "data": {
            "text/html": [
              "<div>\n",
              "<style scoped>\n",
              "    .dataframe tbody tr th:only-of-type {\n",
              "        vertical-align: middle;\n",
              "    }\n",
              "\n",
              "    .dataframe tbody tr th {\n",
              "        vertical-align: top;\n",
              "    }\n",
              "\n",
              "    .dataframe thead th {\n",
              "        text-align: right;\n",
              "    }\n",
              "</style>\n",
              "<table border=\"1\" class=\"dataframe\">\n",
              "  <thead>\n",
              "    <tr style=\"text-align: right;\">\n",
              "      <th></th>\n",
              "      <th>Advert_Header</th>\n",
              "      <th>Post_Time_Desc</th>\n",
              "      <th>Post_Location</th>\n",
              "      <th>Property_Address</th>\n",
              "      <th>Property_Type</th>\n",
              "      <th>Condition</th>\n",
              "      <th>Furnishing</th>\n",
              "      <th>Parking_Spaces</th>\n",
              "      <th>Secure_Parking</th>\n",
              "      <th>Square_Meters</th>\n",
              "      <th>Advert_Desc</th>\n",
              "      <th>Contact_Phone</th>\n",
              "      <th>Seller_Name</th>\n",
              "    </tr>\n",
              "  </thead>\n",
              "  <tbody>\n",
              "    <tr>\n",
              "      <th>0</th>\n",
              "      <td>For Lease: 850sqm Warehouse at Imola, Iju Road...</td>\n",
              "      <td>Posted 38 min ago</td>\n",
              "      <td>Lagos, Agege, Pen Cinema</td>\n",
              "      <td>Iju road,  by Imola,  Agege</td>\n",
              "      <td>Warehouse</td>\n",
              "      <td>Fairly Used</td>\n",
              "      <td>Unfurnished</td>\n",
              "      <td>10+</td>\n",
              "      <td>Yes</td>\n",
              "      <td>850\\n         \\n            sqm</td>\n",
              "      <td>For lease \\na 850sqm warehouse with toilet and...</td>\n",
              "      <td>07068034772</td>\n",
              "      <td>TeeQredible Limited</td>\n",
              "    </tr>\n",
              "    <tr>\n",
              "      <th>1</th>\n",
              "      <td>For Lease: Newly Built 4650sqm Warehouse at Ob...</td>\n",
              "      <td>Posted 1 hour ago</td>\n",
              "      <td>Lagos, Ikeja</td>\n",
              "      <td>Oba Akran,  Ikeja</td>\n",
              "      <td>Warehouse</td>\n",
              "      <td>Newly Built</td>\n",
              "      <td>Unfurnished</td>\n",
              "      <td>10+</td>\n",
              "      <td>Yes</td>\n",
              "      <td>4650\\n         \\n            sqm</td>\n",
              "      <td>For long lease \\na newly built standard and hi...</td>\n",
              "      <td>07068034772</td>\n",
              "      <td>TeeQredible Limited</td>\n",
              "    </tr>\n",
              "    <tr>\n",
              "      <th>2</th>\n",
              "      <td>For Lease: 10,000sqm Warehouse on 5acres of La...</td>\n",
              "      <td>Posted 1 hour ago</td>\n",
              "      <td>Lagos, Ikeja</td>\n",
              "      <td>ikeja industrial area</td>\n",
              "      <td>Warehouse</td>\n",
              "      <td>Fairly Used</td>\n",
              "      <td>Unfurnished</td>\n",
              "      <td>10+</td>\n",
              "      <td>Yes</td>\n",
              "      <td>10000\\n         \\n            sqm</td>\n",
              "      <td>For long lease\\na standard and high roof 10000...</td>\n",
              "      <td>07068034772</td>\n",
              "      <td>TeeQredible Limited</td>\n",
              "    </tr>\n",
              "  </tbody>\n",
              "</table>\n",
              "</div>"
            ],
            "text/plain": [
              "                                       Advert_Header     Post_Time_Desc  \\\n",
              "0  For Lease: 850sqm Warehouse at Imola, Iju Road...  Posted 38 min ago   \n",
              "1  For Lease: Newly Built 4650sqm Warehouse at Ob...  Posted 1 hour ago   \n",
              "2  For Lease: 10,000sqm Warehouse on 5acres of La...  Posted 1 hour ago   \n",
              "\n",
              "              Post_Location             Property_Address Property_Type  \\\n",
              "0  Lagos, Agege, Pen Cinema  Iju road,  by Imola,  Agege     Warehouse   \n",
              "1              Lagos, Ikeja            Oba Akran,  Ikeja     Warehouse   \n",
              "2              Lagos, Ikeja        ikeja industrial area     Warehouse   \n",
              "\n",
              "     Condition   Furnishing Parking_Spaces Secure_Parking  \\\n",
              "0  Fairly Used  Unfurnished            10+            Yes   \n",
              "1  Newly Built  Unfurnished            10+            Yes   \n",
              "2  Fairly Used  Unfurnished            10+            Yes   \n",
              "\n",
              "                       Square_Meters  \\\n",
              "0    850\\n         \\n            sqm   \n",
              "1   4650\\n         \\n            sqm   \n",
              "2  10000\\n         \\n            sqm   \n",
              "\n",
              "                                         Advert_Desc Contact_Phone  \\\n",
              "0  For lease \\na 850sqm warehouse with toilet and...   07068034772   \n",
              "1  For long lease \\na newly built standard and hi...   07068034772   \n",
              "2  For long lease\\na standard and high roof 10000...   07068034772   \n",
              "\n",
              "           Seller_Name  \n",
              "0  TeeQredible Limited  \n",
              "1  TeeQredible Limited  \n",
              "2  TeeQredible Limited  "
            ]
          },
          "metadata": {},
          "execution_count": 5
        }
      ]
    },
    {
      "cell_type": "code",
      "metadata": {
        "colab": {
          "base_uri": "https://localhost:8080/"
        },
        "id": "zpMrw8fWfM2_",
        "outputId": "3c3718c4-2b9f-4581-9851-01be05cbf37a"
      },
      "source": [
        "df.columns"
      ],
      "execution_count": null,
      "outputs": [
        {
          "output_type": "execute_result",
          "data": {
            "text/plain": [
              "Index(['Advert_Header', 'Post_Time_Desc', 'Post_Location', 'Property_Address',\n",
              "       'Property_Type', 'Condition', 'Furnishing', 'Parking_Spaces',\n",
              "       'Secure_Parking', 'Square_Meters', 'Advert_Desc', 'Contact_Phone',\n",
              "       'Seller_Name'],\n",
              "      dtype='object')"
            ]
          },
          "metadata": {},
          "execution_count": 7
        }
      ]
    },
    {
      "cell_type": "code",
      "metadata": {
        "id": "9gNM2Y23d1Pf"
      },
      "source": [
        "df.to_csv(\"jiji.csv\", index=False)"
      ],
      "execution_count": null,
      "outputs": []
    },
    {
      "cell_type": "code",
      "metadata": {
        "id": "lVSaWEGfd0-q"
      },
      "source": [
        ""
      ],
      "execution_count": null,
      "outputs": []
    },
    {
      "cell_type": "code",
      "metadata": {
        "id": "SXY2czJYco3O"
      },
      "source": [
        ""
      ],
      "execution_count": null,
      "outputs": []
    },
    {
      "cell_type": "code",
      "metadata": {
        "id": "bwhNByyxco0Y"
      },
      "source": [
        ""
      ],
      "execution_count": null,
      "outputs": []
    },
    {
      "cell_type": "code",
      "metadata": {
        "id": "okG--romcoyC"
      },
      "source": [
        ""
      ],
      "execution_count": null,
      "outputs": []
    },
    {
      "cell_type": "code",
      "metadata": {
        "id": "ggW_tQdMcove"
      },
      "source": [
        ""
      ],
      "execution_count": null,
      "outputs": []
    },
    {
      "cell_type": "code",
      "metadata": {
        "id": "i5Nb-E3_cos3"
      },
      "source": [
        ""
      ],
      "execution_count": null,
      "outputs": []
    },
    {
      "cell_type": "code",
      "metadata": {
        "id": "bTq_gnlBcoqu"
      },
      "source": [
        ""
      ],
      "execution_count": null,
      "outputs": []
    },
    {
      "cell_type": "code",
      "metadata": {
        "id": "5TTP_RO3coop"
      },
      "source": [
        ""
      ],
      "execution_count": null,
      "outputs": []
    },
    {
      "cell_type": "code",
      "metadata": {
        "id": "pxSR4RFWcomN"
      },
      "source": [
        ""
      ],
      "execution_count": null,
      "outputs": []
    },
    {
      "cell_type": "code",
      "metadata": {
        "id": "-5YxPXdVcojr"
      },
      "source": [
        ""
      ],
      "execution_count": null,
      "outputs": []
    },
    {
      "cell_type": "code",
      "metadata": {
        "id": "77jub5fjcod7"
      },
      "source": [
        ""
      ],
      "execution_count": null,
      "outputs": []
    },
    {
      "cell_type": "code",
      "metadata": {
        "id": "Js_JEsGtcob5"
      },
      "source": [
        ""
      ],
      "execution_count": null,
      "outputs": []
    }
  ]
}