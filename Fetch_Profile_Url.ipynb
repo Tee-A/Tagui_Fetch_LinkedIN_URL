{
 "cells": [
  {
   "cell_type": "code",
   "execution_count": 55,
   "id": "4bce6030",
   "metadata": {},
   "outputs": [],
   "source": [
    "import numpy as np\n",
    "import pandas as pd"
   ]
  },
  {
   "cell_type": "code",
   "execution_count": 56,
   "id": "7e826d7f",
   "metadata": {},
   "outputs": [],
   "source": [
    "import rpa as r"
   ]
  },
  {
   "cell_type": "code",
   "execution_count": 57,
   "id": "571a4cb8",
   "metadata": {
    "scrolled": true
   },
   "outputs": [
    {
     "data": {
      "text/html": [
       "<div>\n",
       "<style scoped>\n",
       "    .dataframe tbody tr th:only-of-type {\n",
       "        vertical-align: middle;\n",
       "    }\n",
       "\n",
       "    .dataframe tbody tr th {\n",
       "        vertical-align: top;\n",
       "    }\n",
       "\n",
       "    .dataframe thead th {\n",
       "        text-align: right;\n",
       "    }\n",
       "</style>\n",
       "<table border=\"1\" class=\"dataframe\">\n",
       "  <thead>\n",
       "    <tr style=\"text-align: right;\">\n",
       "      <th></th>\n",
       "      <th>Name</th>\n",
       "      <th>Company</th>\n",
       "    </tr>\n",
       "  </thead>\n",
       "  <tbody>\n",
       "    <tr>\n",
       "      <th>0</th>\n",
       "      <td>Richard Olayanju</td>\n",
       "      <td>Octave</td>\n",
       "    </tr>\n",
       "    <tr>\n",
       "      <th>1</th>\n",
       "      <td>Ntongha Ibiang</td>\n",
       "      <td>ParallelScore</td>\n",
       "    </tr>\n",
       "    <tr>\n",
       "      <th>2</th>\n",
       "      <td>Temilola Onaneye</td>\n",
       "      <td></td>\n",
       "    </tr>\n",
       "    <tr>\n",
       "      <th>3</th>\n",
       "      <td>Victor Momodu</td>\n",
       "      <td></td>\n",
       "    </tr>\n",
       "    <tr>\n",
       "      <th>4</th>\n",
       "      <td>Boluwatife Okesanya</td>\n",
       "      <td>ParallelScore</td>\n",
       "    </tr>\n",
       "  </tbody>\n",
       "</table>\n",
       "</div>"
      ],
      "text/plain": [
       "                  Name        Company\n",
       "0     Richard Olayanju         Octave\n",
       "1       Ntongha Ibiang  ParallelScore\n",
       "2     Temilola Onaneye               \n",
       "3        Victor Momodu               \n",
       "4  Boluwatife Okesanya  ParallelScore"
      ]
     },
     "execution_count": 57,
     "metadata": {},
     "output_type": "execute_result"
    }
   ],
   "source": [
    "df = pd.read_csv('Users_test.csv')\n",
    "df2 = df.replace(np.nan, '', regex=True)\n",
    "df2.head()"
   ]
  },
  {
   "cell_type": "code",
   "execution_count": 58,
   "id": "8c310e8d",
   "metadata": {},
   "outputs": [
    {
     "data": {
      "text/html": [
       "<div>\n",
       "<style scoped>\n",
       "    .dataframe tbody tr th:only-of-type {\n",
       "        vertical-align: middle;\n",
       "    }\n",
       "\n",
       "    .dataframe tbody tr th {\n",
       "        vertical-align: top;\n",
       "    }\n",
       "\n",
       "    .dataframe thead th {\n",
       "        text-align: right;\n",
       "    }\n",
       "</style>\n",
       "<table border=\"1\" class=\"dataframe\">\n",
       "  <thead>\n",
       "    <tr style=\"text-align: right;\">\n",
       "      <th></th>\n",
       "      <th>Name</th>\n",
       "      <th>Company</th>\n",
       "      <th>search</th>\n",
       "    </tr>\n",
       "  </thead>\n",
       "  <tbody>\n",
       "    <tr>\n",
       "      <th>0</th>\n",
       "      <td>Richard Olayanju</td>\n",
       "      <td>Octave</td>\n",
       "      <td>Richard Olayanju Octave site:linkedin.com</td>\n",
       "    </tr>\n",
       "    <tr>\n",
       "      <th>1</th>\n",
       "      <td>Ntongha Ibiang</td>\n",
       "      <td>ParallelScore</td>\n",
       "      <td>Ntongha Ibiang ParallelScore site:linkedin.com</td>\n",
       "    </tr>\n",
       "    <tr>\n",
       "      <th>2</th>\n",
       "      <td>Temilola Onaneye</td>\n",
       "      <td></td>\n",
       "      <td>Temilola Onaneye  site:linkedin.com</td>\n",
       "    </tr>\n",
       "    <tr>\n",
       "      <th>3</th>\n",
       "      <td>Victor Momodu</td>\n",
       "      <td></td>\n",
       "      <td>Victor Momodu  site:linkedin.com</td>\n",
       "    </tr>\n",
       "    <tr>\n",
       "      <th>4</th>\n",
       "      <td>Boluwatife Okesanya</td>\n",
       "      <td>ParallelScore</td>\n",
       "      <td>Boluwatife Okesanya ParallelScore site:linkedi...</td>\n",
       "    </tr>\n",
       "  </tbody>\n",
       "</table>\n",
       "</div>"
      ],
      "text/plain": [
       "                  Name        Company  \\\n",
       "0     Richard Olayanju         Octave   \n",
       "1       Ntongha Ibiang  ParallelScore   \n",
       "2     Temilola Onaneye                  \n",
       "3        Victor Momodu                  \n",
       "4  Boluwatife Okesanya  ParallelScore   \n",
       "\n",
       "                                              search  \n",
       "0          Richard Olayanju Octave site:linkedin.com  \n",
       "1     Ntongha Ibiang ParallelScore site:linkedin.com  \n",
       "2                Temilola Onaneye  site:linkedin.com  \n",
       "3                   Victor Momodu  site:linkedin.com  \n",
       "4  Boluwatife Okesanya ParallelScore site:linkedi...  "
      ]
     },
     "execution_count": 58,
     "metadata": {},
     "output_type": "execute_result"
    }
   ],
   "source": [
    "df2['search'] = df2['Name'] +\" \" + df2['Company'] + ' site:linkedin.com'\n",
    "df2.head()"
   ]
  },
  {
   "cell_type": "code",
   "execution_count": null,
   "id": "647a4dbc",
   "metadata": {},
   "outputs": [],
   "source": []
  },
  {
   "cell_type": "markdown",
   "id": "f56d2f31",
   "metadata": {},
   "source": [
    "    r.init(visual_automation = True)\n",
    "    r.url('https://www.google.com')\n",
    "    r.wait(1)\n",
    "    r.type('//*[@name=\"q\"]', f'{q}[enter]')\n",
    "    r.wait(2)\n",
    "    r.rclick('.g:nth-child(1) .LC20lb.DKV0Md')\n",
    "    l = r.read('.g:nth-child(1) .LC20lb.DKV0Md')\n",
    "    #r.keyboard('[E]')\n",
    "    r.wait(1)\n",
    "    #l  = r.keyboard('[ctrl][V]')\n",
    "    #link = str(l)\n",
    "    r.write(l,'profile_url.csv')\n",
    "    r.wait(2)"
   ]
  },
  {
   "cell_type": "markdown",
   "id": "e019f00e",
   "metadata": {},
   "source": [
    "    r.init(visual_automation = True)\n",
    "    r.url('https://www.google.com')\n",
    "    r.wait(1)\n",
    "    r.type('//*[@name=\"q\"]', f'{q}[enter]')\n",
    "    r.wait(2)\n",
    "    r.rclick('.g:nth-child(1) .LC20lb.DKV0Md')\n",
    "    r.keyboard('[E]')\n",
    "    r.wait(1)\n",
    "    #l  = r.keyboard('[ctrl][V]')\n",
    "    #link = str(l)\n",
    "    r.write(r.clipboard(),'profile_url.csv')\n",
    "    r.wait(2)"
   ]
  },
  {
   "cell_type": "markdown",
   "id": "f3d76dd0",
   "metadata": {},
   "source": [
    "r.close()"
   ]
  },
  {
   "cell_type": "code",
   "execution_count": 59,
   "id": "3272ac93",
   "metadata": {},
   "outputs": [],
   "source": [
    "query = df2['search'].to_list()\n",
    "r.init(visual_automation = True)\n",
    "for q in query:\n",
    "    r.url('https://www.google.com')\n",
    "    r.wait(1)\n",
    "    r.type('//*[@name=\"q\"]', f'{q}[enter]')\n",
    "    r.wait(2)\n",
    "    l = r.read('.g:nth-child(1) .LC20lb.DKV0Md')\n",
    "    r.wait(1)\n",
    "    r.rclick('.g:nth-child(1) .LC20lb.DKV0Md')\n",
    "    r.keyboard('[E]')\n",
    "    r.wait(1)\n",
    "    r.write(r.clipboard() + ' \\n','profile_url.csv')\n",
    "    r.wait(1)\n",
    "    r.write(l + ' \\n', 'position.csv')\n",
    "    r.wait(2)\n",
    "    \n",
    "    \n",
    "    \n"
   ]
  },
  {
   "cell_type": "code",
   "execution_count": 60,
   "id": "f040ada6",
   "metadata": {},
   "outputs": [
    {
     "data": {
      "text/plain": [
       "True"
      ]
     },
     "execution_count": 60,
     "metadata": {},
     "output_type": "execute_result"
    }
   ],
   "source": [
    "r.close()"
   ]
  },
  {
   "cell_type": "code",
   "execution_count": 61,
   "id": "b54d9c93",
   "metadata": {},
   "outputs": [],
   "source": [
    "profile = pd.read_csv('profile_url.csv')\n",
    "positions = pd.read_csv('position.csv')\n",
    "frame = [positions,profile]\n",
    "final_df = pd.concat(frame,axis=1)\n",
    "final_df.to_csv('profile_details.csv', index=False)"
   ]
  },
  {
   "cell_type": "code",
   "execution_count": 62,
   "id": "6dbe428a",
   "metadata": {},
   "outputs": [
    {
     "data": {
      "text/html": [
       "<div>\n",
       "<style scoped>\n",
       "    .dataframe tbody tr th:only-of-type {\n",
       "        vertical-align: middle;\n",
       "    }\n",
       "\n",
       "    .dataframe tbody tr th {\n",
       "        vertical-align: top;\n",
       "    }\n",
       "\n",
       "    .dataframe thead th {\n",
       "        text-align: right;\n",
       "    }\n",
       "</style>\n",
       "<table border=\"1\" class=\"dataframe\">\n",
       "  <thead>\n",
       "    <tr style=\"text-align: right;\">\n",
       "      <th></th>\n",
       "      <th>Postion_Info</th>\n",
       "      <th>Certification</th>\n",
       "      <th>Link</th>\n",
       "    </tr>\n",
       "  </thead>\n",
       "  <tbody>\n",
       "    <tr>\n",
       "      <th>0</th>\n",
       "      <td>Richard Olayanju</td>\n",
       "      <td>ABDA™ - Data Scientist - Octave Analytics</td>\n",
       "      <td>https://ng.linkedin.com/in/richard-olayanju</td>\n",
       "    </tr>\n",
       "    <tr>\n",
       "      <th>1</th>\n",
       "      <td>Ntongha Ibiang - NLP Data Scientist - Parallel...</td>\n",
       "      <td>NaN</td>\n",
       "      <td>https://ng.linkedin.com/in/ntongha-ibiang-a0b9...</td>\n",
       "    </tr>\n",
       "    <tr>\n",
       "      <th>2</th>\n",
       "      <td>Temilola Onaneye</td>\n",
       "      <td>ABDE™ - Data Engineer - LinkedIn Nigeria</td>\n",
       "      <td>https://ng.linkedin.com/in/temilola-onaneye-ab...</td>\n",
       "    </tr>\n",
       "    <tr>\n",
       "      <th>3</th>\n",
       "      <td>Victor Momodu</td>\n",
       "      <td>ABDA™ – Jacobs University Bremen - LinkedIn</td>\n",
       "      <td>https://de.linkedin.com/in/victormomodu</td>\n",
       "    </tr>\n",
       "    <tr>\n",
       "      <th>4</th>\n",
       "      <td>Boluwatife Okusanya - Human Resource Manager -...</td>\n",
       "      <td>NaN</td>\n",
       "      <td>https://ng.linkedin.com/in/okusanya-boluwatife</td>\n",
       "    </tr>\n",
       "  </tbody>\n",
       "</table>\n",
       "</div>"
      ],
      "text/plain": [
       "                                        Postion_Info  \\\n",
       "0                                   Richard Olayanju   \n",
       "1  Ntongha Ibiang - NLP Data Scientist - Parallel...   \n",
       "2                                   Temilola Onaneye   \n",
       "3                                      Victor Momodu   \n",
       "4  Boluwatife Okusanya - Human Resource Manager -...   \n",
       "\n",
       "                                   Certification  \\\n",
       "0     ABDA™ - Data Scientist - Octave Analytics    \n",
       "1                                            NaN   \n",
       "2      ABDE™ - Data Engineer - LinkedIn Nigeria    \n",
       "3   ABDA™ – Jacobs University Bremen - LinkedIn    \n",
       "4                                            NaN   \n",
       "\n",
       "                                                Link  \n",
       "0       https://ng.linkedin.com/in/richard-olayanju   \n",
       "1  https://ng.linkedin.com/in/ntongha-ibiang-a0b9...  \n",
       "2  https://ng.linkedin.com/in/temilola-onaneye-ab...  \n",
       "3           https://de.linkedin.com/in/victormomodu   \n",
       "4    https://ng.linkedin.com/in/okusanya-boluwatife   "
      ]
     },
     "execution_count": 62,
     "metadata": {},
     "output_type": "execute_result"
    }
   ],
   "source": [
    "final_df.head()"
   ]
  },
  {
   "cell_type": "code",
   "execution_count": null,
   "id": "6fbec86f",
   "metadata": {},
   "outputs": [],
   "source": []
  },
  {
   "cell_type": "code",
   "execution_count": null,
   "id": "91838991",
   "metadata": {},
   "outputs": [],
   "source": []
  },
  {
   "cell_type": "code",
   "execution_count": null,
   "id": "c847d76a",
   "metadata": {},
   "outputs": [],
   "source": []
  }
 ],
 "metadata": {
  "kernelspec": {
   "display_name": "Python 3 (ipykernel)",
   "language": "python",
   "name": "python3"
  },
  "language_info": {
   "codemirror_mode": {
    "name": "ipython",
    "version": 3
   },
   "file_extension": ".py",
   "mimetype": "text/x-python",
   "name": "python",
   "nbconvert_exporter": "python",
   "pygments_lexer": "ipython3",
   "version": "3.9.6"
  }
 },
 "nbformat": 4,
 "nbformat_minor": 5
}
