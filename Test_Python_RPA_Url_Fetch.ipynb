{
  "nbformat": 4,
  "nbformat_minor": 0,
  "metadata": {
    "colab": {
      "name": "Test_Python_RPA_Url_Fetch.ipynb",
      "provenance": [],
      "mount_file_id": "1k1RAFDjagknYt2RFUd8DDXjJL3YBgjaR",
      "authorship_tag": "ABX9TyMfGiIbJbOj7Zf4QCT8uDri",
      "include_colab_link": true
    },
    "kernelspec": {
      "name": "python3",
      "display_name": "Python 3"
    },
    "language_info": {
      "name": "python"
    }
  },
  "cells": [
    {
      "cell_type": "markdown",
      "metadata": {
        "id": "view-in-github",
        "colab_type": "text"
      },
      "source": [
        "<a href=\"https://colab.research.google.com/github/Tee-A/Tagui_Fetch_LinkedIN_URL/blob/main/Test_Python_RPA_Url_Fetch.ipynb\" target=\"_parent\"><img src=\"https://colab.research.google.com/assets/colab-badge.svg\" alt=\"Open In Colab\"/></a>"
      ]
    },
    {
      "cell_type": "markdown",
      "metadata": {
        "id": "JuVgOhC7wyDh"
      },
      "source": [
        "# Setting Up Environment For Tagui on Colab"
      ]
    },
    {
      "cell_type": "code",
      "metadata": {
        "colab": {
          "base_uri": "https://localhost:8080/"
        },
        "id": "heycaNtpv2oM",
        "outputId": "d3d42af6-b4a7-488d-fb05-a73ad91fc17b"
      },
      "source": [
        "# setup RPA environment by installing PHP, Chromium web browser and RPA for Python\n",
        "!apt-get update; apt install php; apt install chromium-browser; pip install rpa\n",
        "\n",
        "# run r.setup() to download TagUI, modify to run Chromium browser and as root user\n",
        "import rpa as r; r.setup(); r.dump(r.load('/root/.tagui/src/tagui').replace('\"google-chrome\"', '\"chromium-browser\"').replace('$headless_switch', '--no-sandbox'), '/root/.tagui/src/tagui')\n",
        "\n",
        "# virtual display to run web browser normally (some websites reject headless mode)\n",
        "!apt install xvfb; pip install pyvirtualdisplay\n",
        "import pyvirtualdisplay; display = pyvirtualdisplay.Display(); display.start()"
      ],
      "execution_count": 1,
      "outputs": [
        {
          "output_type": "stream",
          "name": "stdout",
          "text": [
            "\r0% [Working]\r            \rGet:1 http://security.ubuntu.com/ubuntu bionic-security InRelease [88.7 kB]\n",
            "\r0% [Waiting for headers] [1 InRelease 0 B/88.7 kB 0%] [Connected to cloud.r-pro\r                                                                               \rIgn:2 https://developer.download.nvidia.com/compute/cuda/repos/ubuntu1804/x86_64  InRelease\n",
            "\r0% [Waiting for headers] [1 InRelease 14.2 kB/88.7 kB 16%] [Connected to cloud.\r0% [Waiting for headers] [Connected to cloud.r-project.org (65.8.185.73)] [Wait\r0% [1 InRelease gpgv 88.7 kB] [Waiting for headers] [Connected to cloud.r-proje\r                                                                               \rIgn:3 https://developer.download.nvidia.com/compute/machine-learning/repos/ubuntu1804/x86_64  InRelease\n",
            "\r0% [1 InRelease gpgv 88.7 kB] [Waiting for headers] [Connected to cloud.r-proje\r                                                                               \rHit:4 http://ppa.launchpad.net/c2d4u.team/c2d4u4.0+/ubuntu bionic InRelease\n",
            "\r0% [1 InRelease gpgv 88.7 kB] [Waiting for headers] [Connected to cloud.r-proje\r                                                                               \rHit:5 http://archive.ubuntu.com/ubuntu bionic InRelease\n",
            "\r0% [1 InRelease gpgv 88.7 kB] [Waiting for headers] [Connected to cloud.r-proje\r                                                                               \rHit:6 https://developer.download.nvidia.com/compute/cuda/repos/ubuntu1804/x86_64  Release\n",
            "Hit:7 https://developer.download.nvidia.com/compute/machine-learning/repos/ubuntu1804/x86_64  Release\n",
            "Get:8 http://archive.ubuntu.com/ubuntu bionic-updates InRelease [88.7 kB]\n",
            "Hit:9 https://cloud.r-project.org/bin/linux/ubuntu bionic-cran40/ InRelease\n",
            "Hit:10 http://ppa.launchpad.net/cran/libgit2/ubuntu bionic InRelease\n",
            "Hit:11 http://ppa.launchpad.net/deadsnakes/ppa/ubuntu bionic InRelease\n",
            "Get:12 http://archive.ubuntu.com/ubuntu bionic-backports InRelease [74.6 kB]\n",
            "Hit:13 http://ppa.launchpad.net/graphics-drivers/ppa/ubuntu bionic InRelease\n",
            "Fetched 252 kB in 2s (107 kB/s)\n",
            "Reading package lists... Done\n",
            "Reading package lists... Done\n",
            "Building dependency tree       \n",
            "Reading state information... Done\n",
            "php is already the newest version (1:7.2+60ubuntu1).\n",
            "0 upgraded, 0 newly installed, 0 to remove and 56 not upgraded.\n",
            "Reading package lists... Done\n",
            "Building dependency tree       \n",
            "Reading state information... Done\n",
            "chromium-browser is already the newest version (93.0.4577.63-0ubuntu0.18.04.1).\n",
            "0 upgraded, 0 newly installed, 0 to remove and 56 not upgraded.\n",
            "Requirement already satisfied: rpa in /usr/local/lib/python3.7/dist-packages (1.45.0)\n",
            "Requirement already satisfied: tagui>=1.45.0 in /usr/local/lib/python3.7/dist-packages (from rpa) (1.45.0)\n",
            "[RPA][INFO] - setting up TagUI for use in your Python environment\n",
            "[RPA][INFO] - downloading TagUI (~200MB) and unzipping to below folder...\n",
            "[RPA][INFO] - /root\n",
            "[RPA][INFO] - done. syncing TagUI with stable cutting edge version\n",
            "[RPA][INFO] - TagUI now ready for use in your Python environment\n",
            "[RPA][INFO] - visual automation (optional) requires special setup on Linux,\n",
            "[RPA][INFO] - see the link below to install OpenCV and Tesseract libraries\n",
            "[RPA][INFO] - https://sikulix-2014.readthedocs.io/en/latest/newslinux.html\n",
            "Reading package lists... Done\n",
            "Building dependency tree       \n",
            "Reading state information... Done\n",
            "xvfb is already the newest version (2:1.19.6-1ubuntu4.9).\n",
            "0 upgraded, 0 newly installed, 0 to remove and 56 not upgraded.\n",
            "Requirement already satisfied: pyvirtualdisplay in /usr/local/lib/python3.7/dist-packages (2.2)\n",
            "Requirement already satisfied: EasyProcess in /usr/local/lib/python3.7/dist-packages (from pyvirtualdisplay) (0.3)\n"
          ]
        },
        {
          "output_type": "execute_result",
          "data": {
            "text/plain": [
              "<pyvirtualdisplay.display.Display at 0x7f4cd881f390>"
            ]
          },
          "metadata": {},
          "execution_count": 1
        }
      ]
    },
    {
      "cell_type": "markdown",
      "metadata": {
        "id": "8N51qNbnyKsn"
      },
      "source": [
        "# IMporting other Libraries and Packages"
      ]
    },
    {
      "cell_type": "code",
      "metadata": {
        "id": "GNUM08sLw0x2"
      },
      "source": [
        "import numpy as np\n",
        "import pandas as pd\n",
        "import matplotlib.pyplot as plt\n",
        "import seaborn as sns\n",
        "import rpa as r"
      ],
      "execution_count": 2,
      "outputs": []
    },
    {
      "cell_type": "markdown",
      "metadata": {
        "id": "-zu3jzfEywG5"
      },
      "source": [
        "# Reading dataset that conatins names and company names of users"
      ]
    },
    {
      "cell_type": "code",
      "metadata": {
        "colab": {
          "base_uri": "https://localhost:8080/",
          "height": 204
        },
        "id": "ZHjuzdwoxGGv",
        "outputId": "d8cf8d43-82e2-4379-d6c8-20fa4d2b2d1a"
      },
      "source": [
        "df = pd.read_csv('/content/Users_test.csv')\n",
        "df2 = df.replace(np.nan, '', regex=True)\n",
        "df2.head()"
      ],
      "execution_count": 3,
      "outputs": [
        {
          "output_type": "execute_result",
          "data": {
            "text/html": [
              "<div>\n",
              "<style scoped>\n",
              "    .dataframe tbody tr th:only-of-type {\n",
              "        vertical-align: middle;\n",
              "    }\n",
              "\n",
              "    .dataframe tbody tr th {\n",
              "        vertical-align: top;\n",
              "    }\n",
              "\n",
              "    .dataframe thead th {\n",
              "        text-align: right;\n",
              "    }\n",
              "</style>\n",
              "<table border=\"1\" class=\"dataframe\">\n",
              "  <thead>\n",
              "    <tr style=\"text-align: right;\">\n",
              "      <th></th>\n",
              "      <th>Name</th>\n",
              "      <th>Company</th>\n",
              "    </tr>\n",
              "  </thead>\n",
              "  <tbody>\n",
              "    <tr>\n",
              "      <th>0</th>\n",
              "      <td>Richard Olayanju</td>\n",
              "      <td>Octave</td>\n",
              "    </tr>\n",
              "    <tr>\n",
              "      <th>1</th>\n",
              "      <td>Ntongha Ibiang</td>\n",
              "      <td>ParallelScore</td>\n",
              "    </tr>\n",
              "    <tr>\n",
              "      <th>2</th>\n",
              "      <td>Victor Momodu, ABDA</td>\n",
              "      <td></td>\n",
              "    </tr>\n",
              "    <tr>\n",
              "      <th>3</th>\n",
              "      <td>Edward Oluwaseyi Olayemi</td>\n",
              "      <td>First Bank</td>\n",
              "    </tr>\n",
              "    <tr>\n",
              "      <th>4</th>\n",
              "      <td>Sadeeq Akinyemi AKINTOLA</td>\n",
              "      <td></td>\n",
              "    </tr>\n",
              "  </tbody>\n",
              "</table>\n",
              "</div>"
            ],
            "text/plain": [
              "                       Name        Company\n",
              "0          Richard Olayanju         Octave\n",
              "1            Ntongha Ibiang  ParallelScore\n",
              "2       Victor Momodu, ABDA               \n",
              "3  Edward Oluwaseyi Olayemi     First Bank\n",
              "4  Sadeeq Akinyemi AKINTOLA               "
            ]
          },
          "metadata": {},
          "execution_count": 3
        }
      ]
    },
    {
      "cell_type": "code",
      "metadata": {
        "colab": {
          "base_uri": "https://localhost:8080/",
          "height": 235
        },
        "id": "sS9LJ-1ixGDB",
        "outputId": "c3b957dc-0135-4ca1-8900-4bbc16528bc4"
      },
      "source": [
        "df2['search'] = df2['Name'] +\" \" + df2['Company'] + ' site:linkedin.com'\n",
        "df2.head(6)"
      ],
      "execution_count": 4,
      "outputs": [
        {
          "output_type": "execute_result",
          "data": {
            "text/html": [
              "<div>\n",
              "<style scoped>\n",
              "    .dataframe tbody tr th:only-of-type {\n",
              "        vertical-align: middle;\n",
              "    }\n",
              "\n",
              "    .dataframe tbody tr th {\n",
              "        vertical-align: top;\n",
              "    }\n",
              "\n",
              "    .dataframe thead th {\n",
              "        text-align: right;\n",
              "    }\n",
              "</style>\n",
              "<table border=\"1\" class=\"dataframe\">\n",
              "  <thead>\n",
              "    <tr style=\"text-align: right;\">\n",
              "      <th></th>\n",
              "      <th>Name</th>\n",
              "      <th>Company</th>\n",
              "      <th>search</th>\n",
              "    </tr>\n",
              "  </thead>\n",
              "  <tbody>\n",
              "    <tr>\n",
              "      <th>0</th>\n",
              "      <td>Richard Olayanju</td>\n",
              "      <td>Octave</td>\n",
              "      <td>Richard Olayanju Octave site:linkedin.com</td>\n",
              "    </tr>\n",
              "    <tr>\n",
              "      <th>1</th>\n",
              "      <td>Ntongha Ibiang</td>\n",
              "      <td>ParallelScore</td>\n",
              "      <td>Ntongha Ibiang ParallelScore site:linkedin.com</td>\n",
              "    </tr>\n",
              "    <tr>\n",
              "      <th>2</th>\n",
              "      <td>Victor Momodu, ABDA</td>\n",
              "      <td></td>\n",
              "      <td>Victor Momodu, ABDA  site:linkedin.com</td>\n",
              "    </tr>\n",
              "    <tr>\n",
              "      <th>3</th>\n",
              "      <td>Edward Oluwaseyi Olayemi</td>\n",
              "      <td>First Bank</td>\n",
              "      <td>Edward Oluwaseyi Olayemi First Bank site:linke...</td>\n",
              "    </tr>\n",
              "    <tr>\n",
              "      <th>4</th>\n",
              "      <td>Sadeeq Akinyemi AKINTOLA</td>\n",
              "      <td></td>\n",
              "      <td>Sadeeq Akinyemi AKINTOLA  site:linkedin.com</td>\n",
              "    </tr>\n",
              "    <tr>\n",
              "      <th>5</th>\n",
              "      <td>Boluwatife Okusanya</td>\n",
              "      <td>ParallelScore</td>\n",
              "      <td>Boluwatife Okusanya ParallelScore site:linkedi...</td>\n",
              "    </tr>\n",
              "  </tbody>\n",
              "</table>\n",
              "</div>"
            ],
            "text/plain": [
              "                       Name  ...                                             search\n",
              "0          Richard Olayanju  ...          Richard Olayanju Octave site:linkedin.com\n",
              "1            Ntongha Ibiang  ...     Ntongha Ibiang ParallelScore site:linkedin.com\n",
              "2       Victor Momodu, ABDA  ...             Victor Momodu, ABDA  site:linkedin.com\n",
              "3  Edward Oluwaseyi Olayemi  ...  Edward Oluwaseyi Olayemi First Bank site:linke...\n",
              "4  Sadeeq Akinyemi AKINTOLA  ...        Sadeeq Akinyemi AKINTOLA  site:linkedin.com\n",
              "5       Boluwatife Okusanya  ...  Boluwatife Okusanya ParallelScore site:linkedi...\n",
              "\n",
              "[6 rows x 3 columns]"
            ]
          },
          "metadata": {},
          "execution_count": 4
        }
      ]
    },
    {
      "cell_type": "code",
      "metadata": {
        "id": "sqsxadZXRVpV"
      },
      "source": [
        "query = df2['search'].to_list()\n",
        "r.init()\n",
        "for q in query:\n",
        "    r.url('https://www.google.com')\n",
        "    #r.wait(1)\n",
        "    r.type('//*[@name=\"q\"]', f'{q}[enter]')\n",
        "    r.wait(1)\n",
        "    l = r.read('.g:nth-child(1) .LC20lb.DKV0Md')\n",
        "    #r.wait(1)\n",
        "    link = r.read('.g:nth-child(1) .TbwUpd.NJjxre')\n",
        "    #r.rclick('.g:nth-child(1) .LC20lb.DKV0Md')\n",
        "    #r.keyboard('[E]')\n",
        "    #r.wait(1)\n",
        "    r.write(link + '\\n','/content/profile_url.csv')\n",
        "    r.wait(1)\n",
        "    r.write(l + '\\n', '/content/position.csv')\n",
        "    r.wait(1)\n",
        "    #r.keyboard('[backspace]')\n",
        "    r.wait(1)\n",
        "    "
      ],
      "execution_count": 5,
      "outputs": []
    },
    {
      "cell_type": "code",
      "metadata": {
        "colab": {
          "base_uri": "https://localhost:8080/"
        },
        "id": "keHC4YO43OBs",
        "outputId": "e6b05003-99ee-46fc-98f9-e6ee0e494f2d"
      },
      "source": [
        "r.close()"
      ],
      "execution_count": 6,
      "outputs": [
        {
          "output_type": "execute_result",
          "data": {
            "text/plain": [
              "True"
            ]
          },
          "metadata": {},
          "execution_count": 6
        }
      ]
    },
    {
      "cell_type": "code",
      "metadata": {
        "id": "OsLmLIhuRzvz"
      },
      "source": [
        "profile = pd.read_csv('/content/profile_url.csv')\n",
        "positions = pd.read_csv('/content/position.csv')\n",
        "profile['links'] = profile['Link'].str.split(\" › \").str[0] + \"/in/\" + profile['Link'].str.split(\" › \").str[1]"
      ],
      "execution_count": 7,
      "outputs": []
    },
    {
      "cell_type": "code",
      "metadata": {
        "id": "Vw38nLvpRzo3"
      },
      "source": [
        "profile.drop(['Link'],axis = 1, inplace = True)\n",
        "frame = [positions,profile]\n",
        "final_df = pd.concat(frame,axis=1)\n",
        "#final_df.to_csv('profile_details.csv', index=False)\n",
        "final_df = final_df.replace(np.nan, '', regex=True)"
      ],
      "execution_count": 10,
      "outputs": []
    },
    {
      "cell_type": "code",
      "metadata": {
        "colab": {
          "base_uri": "https://localhost:8080/",
          "height": 266
        },
        "id": "RrfZAZrXTuvy",
        "outputId": "b16086a4-6aec-4a3b-8245-72f2b1af128b"
      },
      "source": [
        "final_df.head(10)"
      ],
      "execution_count": 11,
      "outputs": [
        {
          "output_type": "execute_result",
          "data": {
            "text/html": [
              "<div>\n",
              "<style scoped>\n",
              "    .dataframe tbody tr th:only-of-type {\n",
              "        vertical-align: middle;\n",
              "    }\n",
              "\n",
              "    .dataframe tbody tr th {\n",
              "        vertical-align: top;\n",
              "    }\n",
              "\n",
              "    .dataframe thead th {\n",
              "        text-align: right;\n",
              "    }\n",
              "</style>\n",
              "<table border=\"1\" class=\"dataframe\">\n",
              "  <thead>\n",
              "    <tr style=\"text-align: right;\">\n",
              "      <th></th>\n",
              "      <th>Name_Bio</th>\n",
              "      <th>Certification_Credential</th>\n",
              "      <th>links</th>\n",
              "    </tr>\n",
              "  </thead>\n",
              "  <tbody>\n",
              "    <tr>\n",
              "      <th>0</th>\n",
              "      <td>Richard Olayanju</td>\n",
              "      <td>ABDA™ - Data Scientist - Octave Analytics</td>\n",
              "      <td>https://ng.linkedin.com/in/richard-olayanju</td>\n",
              "    </tr>\n",
              "    <tr>\n",
              "      <th>1</th>\n",
              "      <td>Ntongha Ibiang - NLP Data Scientist - Parallel...</td>\n",
              "      <td></td>\n",
              "      <td>https://ng.linkedin.com/in/ntongha-ibiang-a0b9...</td>\n",
              "    </tr>\n",
              "    <tr>\n",
              "      <th>2</th>\n",
              "      <td>Victor Momodu</td>\n",
              "      <td>ABDA™ – Jacobs University Bremen - LinkedIn</td>\n",
              "      <td>https://de.linkedin.com/in/victormomodu</td>\n",
              "    </tr>\n",
              "    <tr>\n",
              "      <th>3</th>\n",
              "      <td>Edward Oluwaseyi Olayemi - Team Lead</td>\n",
              "      <td>Insight and Analytics</td>\n",
              "      <td>https://ng.linkedin.com/in/eddyena</td>\n",
              "    </tr>\n",
              "    <tr>\n",
              "      <th>4</th>\n",
              "      <td>Sadeeq Akinyemi AKINTOLA - Azure Cloud Big Dat...</td>\n",
              "      <td></td>\n",
              "      <td>https://pt.linkedin.com/in/sadeeqakintola</td>\n",
              "    </tr>\n",
              "    <tr>\n",
              "      <th>5</th>\n",
              "      <td>Boluwatife Okusanya - Human Resource Manager -...</td>\n",
              "      <td></td>\n",
              "      <td>https://ng.linkedin.com/in/okusanya-boluwatife</td>\n",
              "    </tr>\n",
              "    <tr>\n",
              "      <th>6</th>\n",
              "      <td>Opeoluwa Iwashokun - Country Manager - Hebroux...</td>\n",
              "      <td></td>\n",
              "      <td>https://ng.linkedin.com/in/opeoluwa-iwashokun-...</td>\n",
              "    </tr>\n",
              "  </tbody>\n",
              "</table>\n",
              "</div>"
            ],
            "text/plain": [
              "                                            Name_Bio  ...                                              links\n",
              "0                                   Richard Olayanju  ...        https://ng.linkedin.com/in/richard-olayanju\n",
              "1  Ntongha Ibiang - NLP Data Scientist - Parallel...  ...  https://ng.linkedin.com/in/ntongha-ibiang-a0b9...\n",
              "2                                      Victor Momodu  ...            https://de.linkedin.com/in/victormomodu\n",
              "3               Edward Oluwaseyi Olayemi - Team Lead  ...                 https://ng.linkedin.com/in/eddyena\n",
              "4  Sadeeq Akinyemi AKINTOLA - Azure Cloud Big Dat...  ...          https://pt.linkedin.com/in/sadeeqakintola\n",
              "5  Boluwatife Okusanya - Human Resource Manager -...  ...     https://ng.linkedin.com/in/okusanya-boluwatife\n",
              "6  Opeoluwa Iwashokun - Country Manager - Hebroux...  ...  https://ng.linkedin.com/in/opeoluwa-iwashokun-...\n",
              "\n",
              "[7 rows x 3 columns]"
            ]
          },
          "metadata": {},
          "execution_count": 11
        }
      ]
    },
    {
      "cell_type": "markdown",
      "metadata": {
        "id": "YwLN3Y-pSe1o"
      },
      "source": [
        "# Applying Transformation"
      ]
    },
    {
      "cell_type": "code",
      "metadata": {
        "colab": {
          "base_uri": "https://localhost:8080/",
          "height": 351
        },
        "id": "lNe266JMSekl",
        "outputId": "bb230a69-efdd-4bac-9d3d-85295aa848ae"
      },
      "source": [
        "final_df['FullName'] = final_df['Name_Bio'].str.split('-').str[0]\n",
        "final_df['Position'] = final_df['Name_Bio'].str.split('-').str[1]\n",
        "final_df['Extra'] = final_df['Name_Bio'].str.split('-').str[2]\n",
        "final_df['Position2'] = final_df['Certification_Credential'].str.split('-').str[1]\n",
        "final_df['Certification_Credential'] = final_df['Certification_Credential'].str.split('-').str[0]\n",
        "final_df = final_df.replace(np.nan, '', regex=True)\n",
        "final_df['Bio_And_CertificationExtra'] = final_df['Certification_Credential'] + final_df['Extra']\n",
        "final_df['Position'] = final_df['Position'] + final_df['Position2']\n",
        "final_df['Linkedin_Location'] = final_df['links'].str.slice(8,10)\n",
        "final_df = final_df.drop(['Extra','Position2','Certification_Credential'], axis = 1)\n",
        "final_df.head(10)"
      ],
      "execution_count": 12,
      "outputs": [
        {
          "output_type": "execute_result",
          "data": {
            "text/html": [
              "<div>\n",
              "<style scoped>\n",
              "    .dataframe tbody tr th:only-of-type {\n",
              "        vertical-align: middle;\n",
              "    }\n",
              "\n",
              "    .dataframe tbody tr th {\n",
              "        vertical-align: top;\n",
              "    }\n",
              "\n",
              "    .dataframe thead th {\n",
              "        text-align: right;\n",
              "    }\n",
              "</style>\n",
              "<table border=\"1\" class=\"dataframe\">\n",
              "  <thead>\n",
              "    <tr style=\"text-align: right;\">\n",
              "      <th></th>\n",
              "      <th>Name_Bio</th>\n",
              "      <th>links</th>\n",
              "      <th>FullName</th>\n",
              "      <th>Position</th>\n",
              "      <th>Bio_And_CertificationExtra</th>\n",
              "      <th>Linkedin_Location</th>\n",
              "    </tr>\n",
              "  </thead>\n",
              "  <tbody>\n",
              "    <tr>\n",
              "      <th>0</th>\n",
              "      <td>Richard Olayanju</td>\n",
              "      <td>https://ng.linkedin.com/in/richard-olayanju</td>\n",
              "      <td>Richard Olayanju</td>\n",
              "      <td>Data Scientist</td>\n",
              "      <td>ABDA™</td>\n",
              "      <td>ng</td>\n",
              "    </tr>\n",
              "    <tr>\n",
              "      <th>1</th>\n",
              "      <td>Ntongha Ibiang - NLP Data Scientist - Parallel...</td>\n",
              "      <td>https://ng.linkedin.com/in/ntongha-ibiang-a0b9...</td>\n",
              "      <td>Ntongha Ibiang</td>\n",
              "      <td>NLP Data Scientist</td>\n",
              "      <td>ParallelScore</td>\n",
              "      <td>ng</td>\n",
              "    </tr>\n",
              "    <tr>\n",
              "      <th>2</th>\n",
              "      <td>Victor Momodu</td>\n",
              "      <td>https://de.linkedin.com/in/victormomodu</td>\n",
              "      <td>Victor Momodu</td>\n",
              "      <td>LinkedIn</td>\n",
              "      <td>ABDA™ – Jacobs University Bremen</td>\n",
              "      <td>de</td>\n",
              "    </tr>\n",
              "    <tr>\n",
              "      <th>3</th>\n",
              "      <td>Edward Oluwaseyi Olayemi - Team Lead</td>\n",
              "      <td>https://ng.linkedin.com/in/eddyena</td>\n",
              "      <td>Edward Oluwaseyi Olayemi</td>\n",
              "      <td>Team Lead</td>\n",
              "      <td>Insight and Analytics</td>\n",
              "      <td>ng</td>\n",
              "    </tr>\n",
              "    <tr>\n",
              "      <th>4</th>\n",
              "      <td>Sadeeq Akinyemi AKINTOLA - Azure Cloud Big Dat...</td>\n",
              "      <td>https://pt.linkedin.com/in/sadeeqakintola</td>\n",
              "      <td>Sadeeq Akinyemi AKINTOLA</td>\n",
              "      <td>Azure Cloud Big Data Support ...</td>\n",
              "      <td></td>\n",
              "      <td>pt</td>\n",
              "    </tr>\n",
              "    <tr>\n",
              "      <th>5</th>\n",
              "      <td>Boluwatife Okusanya - Human Resource Manager -...</td>\n",
              "      <td>https://ng.linkedin.com/in/okusanya-boluwatife</td>\n",
              "      <td>Boluwatife Okusanya</td>\n",
              "      <td>Human Resource Manager</td>\n",
              "      <td>LinkedIn ...</td>\n",
              "      <td>ng</td>\n",
              "    </tr>\n",
              "    <tr>\n",
              "      <th>6</th>\n",
              "      <td>Opeoluwa Iwashokun - Country Manager - Hebroux...</td>\n",
              "      <td>https://ng.linkedin.com/in/opeoluwa-iwashokun-...</td>\n",
              "      <td>Opeoluwa Iwashokun</td>\n",
              "      <td>Country Manager</td>\n",
              "      <td>Hebroux Consulting</td>\n",
              "      <td>ng</td>\n",
              "    </tr>\n",
              "  </tbody>\n",
              "</table>\n",
              "</div>"
            ],
            "text/plain": [
              "                                            Name_Bio  ... Linkedin_Location\n",
              "0                                   Richard Olayanju  ...                ng\n",
              "1  Ntongha Ibiang - NLP Data Scientist - Parallel...  ...                ng\n",
              "2                                      Victor Momodu  ...                de\n",
              "3               Edward Oluwaseyi Olayemi - Team Lead  ...                ng\n",
              "4  Sadeeq Akinyemi AKINTOLA - Azure Cloud Big Dat...  ...                pt\n",
              "5  Boluwatife Okusanya - Human Resource Manager -...  ...                ng\n",
              "6  Opeoluwa Iwashokun - Country Manager - Hebroux...  ...                ng\n",
              "\n",
              "[7 rows x 6 columns]"
            ]
          },
          "metadata": {},
          "execution_count": 12
        }
      ]
    },
    {
      "cell_type": "code",
      "metadata": {
        "id": "V2ie8zPWSeZA"
      },
      "source": [
        ""
      ],
      "execution_count": null,
      "outputs": []
    },
    {
      "cell_type": "code",
      "metadata": {
        "id": "FvQi0VlxRkma"
      },
      "source": [
        ""
      ],
      "execution_count": null,
      "outputs": []
    },
    {
      "cell_type": "code",
      "metadata": {
        "id": "oQsUBh4xUNRu"
      },
      "source": [
        ""
      ],
      "execution_count": null,
      "outputs": []
    },
    {
      "cell_type": "code",
      "metadata": {
        "id": "rhYbB56ZUNOc"
      },
      "source": [
        ""
      ],
      "execution_count": null,
      "outputs": []
    },
    {
      "cell_type": "code",
      "metadata": {
        "id": "H3oVXD-uy5MV"
      },
      "source": [
        ""
      ],
      "execution_count": null,
      "outputs": []
    }
  ]
}